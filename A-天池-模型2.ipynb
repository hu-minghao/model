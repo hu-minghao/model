{
 "cells": [
  {
   "cell_type": "code",
   "execution_count": null,
   "metadata": {},
   "outputs": [],
   "source": [
    "data['visitors_log1p'] = np.log1p(data['visitors'])\n",
    "to_drop = ['air_store_id', 'is_test', 'test_number', 'visit_date', 'was_nil',\n",
    "           'is_outlier', 'visitors_capped', 'visitors',\n",
    "           'air_area_name', 'latitude', 'longitude', 'visitors_capped_log1p']\n",
    "train = train.drop(to_drop, axis='columns')\n",
    "\n",
    "assert X_train.isnull().sum().sum() == 0\n",
    "assert y_train.isnull().sum() == 0\n",
    "assert len(X_train) == len(y_train)\n",
    "assert X_test.isnull().sum().sum() == 0\n",
    "assert len(X_test) == 32019"
   ]
  },
  {
   "cell_type": "code",
   "execution_count": null,
   "metadata": {},
   "outputs": [],
   "source": [
    "import lightgbm as lgbm\n",
    "from sklearn import metrics\n",
    "from sklearn import model_selection\n",
    "\n",
    "\n",
    "np.random.seed(42)\n",
    "\n",
    "model = lgbm.LGBMRegressor(\n",
    "    objective='regression',\n",
    "    max_depth=5,\n",
    "    num_leaves=15,\n",
    "    learning_rate=0.007,\n",
    "    n_estimators=1000,\n",
    "    min_child_samples=80,\n",
    "    subsample=0.8,\n",
    "    colsample_bytree=1,\n",
    "    reg_alpha=0,\n",
    "    reg_lambda=0,\n",
    "    random_state=np.random.randint(10e6)\n",
    ")\n",
    "\n",
    "n_splits = 6\n",
    "cv = model_selection.KFold(n_splits=n_splits, shuffle=True, random_state=42)\n",
    "\n",
    "val_scores = [0] * n_splits\n",
    "\n",
    "sub = submission['id'].to_frame()\n",
    "sub['visitors'] = 0\n",
    "\n",
    "feature_importances = pd.DataFrame(index=X_train.columns)\n",
    "\n",
    "for i, (fit_idx, val_idx) in enumerate(cv.split(X_train, y_train)):\n",
    "    \n",
    "    X_fit = X_train.iloc[fit_idx]\n",
    "    y_fit = y_train.iloc[fit_idx]\n",
    "    X_val = X_train.iloc[val_idx]\n",
    "    y_val = y_train.iloc[val_idx]\n",
    "    \n",
    "    model.fit(\n",
    "        X_fit,\n",
    "        y_fit,\n",
    "        eval_set=[(X_fit, y_fit), (X_val, y_val)],\n",
    "        eval_names=('fit', 'val'),\n",
    "        eval_metric='l2',\n",
    "        early_stopping_rounds=200,\n",
    "        feature_name=X_fit.columns.tolist(),\n",
    "        verbose=False\n",
    "    )\n",
    "    \n",
    "    val_scores[i] = np.sqrt(model.best_score_['val']['l2'])\n",
    "    sub['visitors'] += model.predict(X_test, num_iteration=model.best_iteration_)\n",
    "    feature_importances[i] = model.feature_importances_\n",
    "    \n",
    "    print('Fold {} RMSLE: {:.5f}'.format(i+1, val_scores[i]))\n",
    "    \n",
    "sub['visitors'] /= n_splits\n",
    "sub['visitors'] = np.expm1(sub['visitors'])\n",
    "\n",
    "val_mean = np.mean(val_scores)\n",
    "val_std = np.std(val_scores)\n",
    "\n",
    "print('Local RMSLE: {:.5f} (±{:.5f})'.format(val_mean, val_std))"
   ]
  },
  {
   "cell_type": "code",
   "execution_count": null,
   "metadata": {},
   "outputs": [],
   "source": [
    "sub.to_csv('result.csv', index=False)\n",
    "import pandas as pd\n",
    "df = pd.read_csv('result.csv')\n",
    "df.head()"
   ]
  }
 ],
 "metadata": {
  "kernelspec": {
   "display_name": "Python 3",
   "language": "python",
   "name": "python3"
  },
  "language_info": {
   "codemirror_mode": {
    "name": "ipython",
    "version": 3
   },
   "file_extension": ".py",
   "mimetype": "text/x-python",
   "name": "python",
   "nbconvert_exporter": "python",
   "pygments_lexer": "ipython3",
   "version": "3.7.0"
  }
 },
 "nbformat": 4,
 "nbformat_minor": 2
}
