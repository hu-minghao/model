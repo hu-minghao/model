{
 "cells": [
  {
   "cell_type": "code",
   "execution_count": 1,
   "metadata": {
    "collapsed": true
   },
   "outputs": [],
   "source": [
    "%config IPCompleter.greedy=True"
   ]
  },
  {
   "cell_type": "code",
   "execution_count": 2,
   "metadata": {
    "collapsed": true
   },
   "outputs": [],
   "source": [
    "import tensorflow as tf \n",
    "import numpy as np\n",
    "\n",
    "#构造100个线性数据点\n",
    "x_data=np.random.rand(100)\n",
    "y_data=x_data*0.2+0.6\n",
    "\n",
    "#构造线性目标函数\n",
    "k=tf.Variable(0.)\n",
    "b=tf.Variable(0.)\n",
    "y=k*x_data+b"
   ]
  },
  {
   "cell_type": "code",
   "execution_count": 11,
   "metadata": {},
   "outputs": [
    {
     "name": "stdout",
     "output_type": "stream",
     "text": [
      "0 [0.15859771, 0.28297183]\n",
      "20 [0.26336333, 0.56367302]\n",
      "40 [0.23800813, 0.57820958]\n",
      "60 [0.22279893, 0.58692914]\n",
      "80 [0.21367583, 0.59215951]\n",
      "100 [0.20820336, 0.59529692]\n",
      "120 [0.20492068, 0.59717894]\n",
      "140 [0.20295164, 0.59830779]\n",
      "160 [0.20177051, 0.59898496]\n",
      "180 [0.20106201, 0.5993911]\n",
      "200 [0.20063703, 0.59963477]\n"
     ]
    }
   ],
   "source": [
    "#构造代价函数\n",
    "loss=tf.reduce_mean(tf.square(y-y_data))\n",
    "#定义一个梯度下降法\n",
    "optimizer=tf.train.GradientDescentOptimizer(0.2)\n",
    "#最小化代价函数\n",
    "train=optimizer.minimize(loss)\n",
    "#初始全局变量\n",
    "inti=tf.global_variables_initializer()\n",
    "with tf.Session() as sess:\n",
    "    sess.run(inti)\n",
    "    for step in  range(201):\n",
    "        sess.run(train)\n",
    "        if step%20==0:\n",
    "            print(step,sess.run([k,b]))"
   ]
  },
  {
   "cell_type": "code",
   "execution_count": null,
   "metadata": {
    "collapsed": true
   },
   "outputs": [],
   "source": []
  }
 ],
 "metadata": {
  "kernelspec": {
   "display_name": "Python 3",
   "language": "python",
   "name": "python3"
  },
  "language_info": {
   "codemirror_mode": {
    "name": "ipython",
    "version": 3
   },
   "file_extension": ".py",
   "mimetype": "text/x-python",
   "name": "python",
   "nbconvert_exporter": "python",
   "pygments_lexer": "ipython3",
   "version": "3.7.0"
  }
 },
 "nbformat": 4,
 "nbformat_minor": 2
}
