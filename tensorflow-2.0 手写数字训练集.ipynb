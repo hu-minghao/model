{
 "cells": [
  {
   "cell_type": "code",
   "execution_count": null,
   "metadata": {},
   "outputs": [],
   "source": [
    "import scipy.io as sio\n",
    "\n",
    "#下载好的数据集，通过sio模块读取\n",
    "mat_path = os.path.join('E:/TensorFlow', 'mnist-original.mat')\n",
    "mnist = sio.loadmat(mat_path)"
   ]
  },
  {
   "cell_type": "code",
   "execution_count": null,
   "metadata": {},
   "outputs": [],
   "source": [
    "import  tensorflow as tf\n",
    "from    tensorflow import keras\n",
    "from keras. import "
   ]
  },
  {
   "cell_type": "code",
   "execution_count": null,
   "metadata": {},
   "outputs": [],
   "source": [
    "x, y = mnist[\"data\"].T, mnist[\"label\"].T"
   ]
  },
  {
   "cell_type": "code",
   "execution_count": null,
   "metadata": {},
   "outputs": [
    {
     "name": "stdout",
     "output_type": "stream",
     "text": [
      "Downloading data from https://storage.googleapis.com/tensorflow/tf-keras-datasets/mnist.npz\n",
      "11362304/11490434 [============================>.] - ETA: 0s"
     ]
    }
   ],
   "source": [
    "import  tensorflow as tf\n",
    "from    tensorflow import keras\n",
    "from    tensorflow.keras import datasets\n",
    "import  os\n",
    " \n",
    "# 设置后台打印日志等级 避免后台打印一些无用的信息\n",
    "os.environ['TF_CPP_MIN_LOG_LEVEL'] = '2'\n",
    " \n",
    "# 利用Tensorflow2中的接口加载mnist数据集\n",
    "mnist= tf.keras.datasets.mnist\n",
    "(x_train, y_train), (x_test, y_test) = mnist.load_data()\n",
    "x_train, x_test = x_train / 255.0, x_test / 255.0\n",
    " \n",
    "\n",
    "# 构建dataset对象，方便对数据的打乱，批处理等超操作\n",
    "train_db = tf.data.Dataset.from_tensor_slices((x,y)).shuffle(1000).batch(128)\n",
    "test_db = tf.data.Dataset.from_tensor_slices((x_test,y_test)).batch(128)\n",
    " \n",
    "# 构建模型中会用到的权重\n",
    "w1 = tf.Variable(tf.random.truncated_normal([784, 256], stddev=0.1,seed=1))\n",
    "b1 = tf.Variable(tf.zeros([256]))\n",
    "w2 = tf.Variable(tf.random.truncated_normal([256, 128], stddev=0.1))\n",
    "b2 = tf.Variable(tf.zeros([128]))\n",
    "w3 = tf.Variable(tf.random.truncated_normal([128, 10], stddev=0.1))\n",
    "b3 = tf.Variable(tf.zeros([10]))\n",
    " \n",
    "# 学习率\n",
    "lr = 1e-3\n",
    " \n",
    "# epoch表示整个训练集循环的次数 这里循环100次\n",
    "for epoch in range(100):\n",
    "    # step表示当前训练到了第几个Batch\n",
    "    for step, (x, y) in enumerate(train_db):\n",
    "        # 把训练集进行打平操作\n",
    "        x = tf.reshape(x, [-1, 28*28])\n",
    "        # 构建模型并计算梯度\n",
    "        with tf.GradientTape() as tape: # tf.Variable\n",
    "            # 三层非线性模型搭建\n",
    "            h1 = x@w1 + tf.broadcast_to(b1, [x.shape[0], 256])\n",
    "            h1 = tf.nn.relu(h1)\n",
    "            h2 = h1@w2 + b2\n",
    "            h2 = tf.nn.relu(h2)\n",
    "            out = h2@w3 + b3\n",
    " \n",
    "            # 把标签转化成one_hot编码 \n",
    "            y_onehot = tf.one_hot(y, depth=10)\n",
    " \n",
    "            # 计算MSE\n",
    "            loss = tf.square(y_onehot - out)\n",
    "            loss = tf.reduce_mean(loss)\n",
    " \n",
    "        # 计算梯度\n",
    "        grads = tape.gradient(loss, [w1, b1, w2, b2, w3, b3])\n",
    "        \n",
    "        # w = w - lr * w_grad\n",
    "        # 利用上述公式进行权重的更新\n",
    "        w1.assign_sub(lr * grads[0])\n",
    "        b1.assign_sub(lr * grads[1])\n",
    "        w2.assign_sub(lr * grads[2])\n",
    "        b2.assign_sub(lr * grads[3])\n",
    "        w3.assign_sub(lr * grads[4])\n",
    "        b3.assign_sub(lr * grads[5])\n",
    " \n",
    "        # 每训练100个Batch 打印一下当前的loss\n",
    "        if step % 100 == 0:\n",
    "            print(epoch, step, 'loss:', float(loss))\n",
    " \n",
    "    # 每训练完一次数据集 测试一下啊准确率\n",
    "    total_correct, total_num = 0, 0\n",
    "    for step, (x,y) in enumerate(test_db):\n",
    " \n",
    "        x = tf.reshape(x, [-1, 28*28])\n",
    " \n",
    "        h1 = tf.nn.relu(x@w1 + b1)\n",
    "        h2 = tf.nn.relu(h1@w2 + b2)\n",
    "        out = h2@w3 +b3\n",
    "        # 把输出值映射到[0~1]之间\n",
    "        prob = tf.nn.softmax(out, axis=1)\n",
    "        # 获取概率最大值得索引位置\n",
    "        pred = tf.argmax(prob, axis=1)\n",
    "        pred = tf.cast(pred, dtype=tf.int32)\n",
    "        \n",
    "        correct = tf.cast(tf.equal(pred, y), dtype=tf.int32)\n",
    "        correct = tf.reduce_sum(correct)\n",
    "        # 获取每一个batch中的正确率和batch大小\n",
    "        total_correct += int(correct)\n",
    "        total_num += x.shape[0]\n",
    "    # 计算总的正确率\n",
    "    acc = total_correct / total_num\n",
    "    print('test acc:', acc)"
   ]
  },
  {
   "cell_type": "code",
   "execution_count": 2,
   "metadata": {},
   "outputs": [],
   "source": []
  },
  {
   "cell_type": "code",
   "execution_count": null,
   "metadata": {},
   "outputs": [],
   "source": []
  }
 ],
 "metadata": {
  "kernelspec": {
   "display_name": "Python 3",
   "language": "python",
   "name": "python3"
  },
  "language_info": {
   "codemirror_mode": {
    "name": "ipython",
    "version": 3
   },
   "file_extension": ".py",
   "mimetype": "text/x-python",
   "name": "python",
   "nbconvert_exporter": "python",
   "pygments_lexer": "ipython3",
   "version": "3.7.0"
  }
 },
 "nbformat": 4,
 "nbformat_minor": 2
}
