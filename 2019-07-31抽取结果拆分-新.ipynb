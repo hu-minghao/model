{
 "cells": [
  {
   "cell_type": "code",
   "execution_count": 1,
   "metadata": {},
   "outputs": [],
   "source": [
    "import pandas as pd\n",
    "import os\n",
    "import re"
   ]
  },
  {
   "cell_type": "code",
   "execution_count": 2,
   "metadata": {},
   "outputs": [
    {
     "name": "stderr",
     "output_type": "stream",
     "text": [
      "D:\\ProgramData\\Anaconda3\\lib\\site-packages\\ipykernel_launcher.py:7: DeprecationWarning: \n",
      ".ix is deprecated. Please use\n",
      ".loc for label based indexing or\n",
      ".iloc for positional indexing\n",
      "\n",
      "See the documentation here:\n",
      "http://pandas.pydata.org/pandas-docs/stable/indexing.html#ix-indexer-is-deprecated\n",
      "  import sys\n",
      "D:\\ProgramData\\Anaconda3\\lib\\site-packages\\ipykernel_launcher.py:14: DeprecationWarning: \n",
      ".ix is deprecated. Please use\n",
      ".loc for label based indexing or\n",
      ".iloc for positional indexing\n",
      "\n",
      "See the documentation here:\n",
      "http://pandas.pydata.org/pandas-docs/stable/indexing.html#ix-indexer-is-deprecated\n",
      "  \n"
     ]
    },
    {
     "name": "stdout",
     "output_type": "stream",
     "text": [
      "文件保存成功,保存路径为: E:\\Conmpany file\\中海数据交接\\成都-全\\成都补充分词.xlsx\n"
     ]
    }
   ],
   "source": [
    "def split_word(file_path):\n",
    "    df=pd.read_excel(file_path)#文件路径，这个会直接默认读取到这个Excel的第一个表单\n",
    "    result=[]\n",
    "    shape=df.shape\n",
    "    #1：循环读取指定行\n",
    "    for n in range(shape[0]):\n",
    "        data_labels=df.ix[n,0]#读取第n行第一列的值\n",
    "        if pd.isnull(data_labels):\n",
    "            pass\n",
    "    #         data={'抽取结果':data_labels,'评论内容':data_comments}\n",
    "    #         result.append(data)\n",
    "        else:\n",
    "            data_labels = data_labels.split(',')\n",
    "            data_comments=df.ix[n,1]\n",
    "            for label in data_labels:\n",
    "                data_label=label\n",
    "                data_comment=data_comments\n",
    "                data={'抽取结果':data_label,'评论内容':data_comment}\n",
    "                result.append(data)\n",
    "    #转为DataFrame文件\n",
    "    RESULT=pd.DataFrame(result)\n",
    "    #以=号为标记，进一步拆分，下面为拆分为三列\n",
    "    RESULT['抽取标签'], RESULT['A'],RESULT['B'] = RESULT['抽取结果'].str.split('=', 3).str\n",
    "    #合并抽取标签与A\n",
    "    RESULT['抽取标签']=RESULT['抽取标签'].str.cat(RESULT['A'])\n",
    "        #删除A列\n",
    "    RESULT.drop(labels=['A'], axis=1,inplace = True)\n",
    "    #调整标签顺序，删除原来的列,插入与删除\n",
    "    RESULT.drop(labels=['抽取结果'], axis=1,inplace = True)#删除原始第一列\n",
    "    #将合并的标签插入到第一列\n",
    "    RESULT.insert(0, '抽取标签', RESULT.pop('抽取标签'))\n",
    "    RESULT.insert(1, '情绪', RESULT.pop('B'))\n",
    "\n",
    "    #去除第一列文本前的空格\n",
    "    RESULT['抽取标签']=RESULT['抽取标签'].map(str.strip)\n",
    "    #保存文件\n",
    "    save_path='E:\\Conmpany file\\中海数据交接\\成都-全\\成都补充分词.xlsx'\n",
    "    RESULT.to_excel(save_path,index=False)\n",
    "    print('文件保存成功,保存路径为: %s'%save_path)\n",
    "    #待添加：删除空格，去除多余的空白格\n",
    "if __name__=='__main__':\n",
    "    file_path='E:\\Conmpany file\\中海数据交接\\成都-全\\成都补充.xlsx'\n",
    "    split_word(file_path)"
   ]
  },
  {
   "cell_type": "code",
   "execution_count": 7,
   "metadata": {},
   "outputs": [],
   "source": [
    "save_path='E:\\Conmpany file\\comments_data\\南京-分词.xlsx'\n",
    "RESULT=pd.read_excel(save_path)"
   ]
  },
  {
   "cell_type": "code",
   "execution_count": 10,
   "metadata": {},
   "outputs": [],
   "source": [
    "RESULT['抽取标签']=RESULT['抽取标签'].str.cat(RESULT['A'])\n"
   ]
  },
  {
   "cell_type": "code",
   "execution_count": 11,
   "metadata": {},
   "outputs": [],
   "source": [
    "RESULT.to_excel('E:\\Conmpany file\\comments_data\\南京-分词1.xlsx')"
   ]
  },
  {
   "cell_type": "code",
   "execution_count": 2,
   "metadata": {},
   "outputs": [],
   "source": [
    "import pandas as pd\n",
    "import re\n",
    "import numpy as np\n"
   ]
  },
  {
   "cell_type": "code",
   "execution_count": 10,
   "metadata": {},
   "outputs": [],
   "source": [
    "df=pd.read_excel('E:\\Conmpany file\\中海数据交接\\南京-全\\商铺页--南京.xlsx')"
   ]
  },
  {
   "cell_type": "code",
   "execution_count": 12,
   "metadata": {},
   "outputs": [],
   "source": [
    "df=df.drop_duplicates('评论内容')"
   ]
  },
  {
   "cell_type": "code",
   "execution_count": 6,
   "metadata": {},
   "outputs": [],
   "source": [
    "df[\"商户\"] = df[\"商户\"].map(lambda x:re.sub(\"\\(.*\\)\",\"\",x))"
   ]
  },
  {
   "cell_type": "code",
   "execution_count": 9,
   "metadata": {},
   "outputs": [],
   "source": [
    "df.to_excel('E:\\Conmpany file\\中海数据交接\\南京-全\\商铺页--南京1.xlsx',index=False)"
   ]
  },
  {
   "cell_type": "code",
   "execution_count": 13,
   "metadata": {},
   "outputs": [
    {
     "name": "stdout",
     "output_type": "stream",
     "text": [
      "<class 'pandas.core.frame.DataFrame'>\n",
      "Int64Index: 14061 entries, 0 to 14060\n",
      "Data columns (total 64 columns):\n",
      "评论内容       14060 non-null object\n",
      "评论人        14059 non-null object\n",
      "评论人LV级别    14061 non-null int64\n",
      "用户评星       14061 non-null int64\n",
      "链接         14061 non-null object\n",
      "浏览量        14061 non-null int64\n",
      "时间         14061 non-null datetime64[ns]\n",
      "点赞量        14061 non-null int64\n",
      "回应量        14061 non-null int64\n",
      "商铺评论量      14061 non-null int64\n",
      "商户         14061 non-null object\n",
      "商铺平均价      14061 non-null int64\n",
      "平台显示星级     14061 non-null float64\n",
      "商城         14061 non-null object\n",
      "商户类别       14061 non-null object\n",
      "拆业态        14061 non-null object\n",
      "id         14061 non-null int64\n",
      "url        14061 non-null int64\n",
      "shopId     14061 non-null int64\n",
      "other      10 non-null object\n",
      "other2     0 non-null float64\n",
      "项目         0 non-null float64\n",
      "餐饮         0 non-null float64\n",
      "服务         13393 non-null float64\n",
      "口味         10653 non-null float64\n",
      "设施         1015 non-null float64\n",
      "产品         978 non-null float64\n",
      "效果         570 non-null float64\n",
      "视效         82 non-null float64\n",
      "环境         13523 non-null float64\n",
      "师资         174 non-null float64\n",
      "课程         67 non-null float64\n",
      "卫生         2 non-null float64\n",
      "位置         2 non-null float64\n",
      "造型         15 non-null float64\n",
      "摄影         0 non-null float64\n",
      "效率         0 non-null float64\n",
      "交通         0 non-null float64\n",
      "划算         19 non-null float64\n",
      "施工         2 non-null float64\n",
      "设计         7 non-null float64\n",
      "音效         35 non-null float64\n",
      "趣味         105 non-null float64\n",
      "食材         0 non-null float64\n",
      "品种         0 non-null float64\n",
      "场地         3 non-null float64\n",
      "菜品         3 non-null float64\n",
      "速度         0 non-null float64\n",
      "技术         3 non-null float64\n",
      "技师         28 non-null float64\n",
      "展品         0 non-null float64\n",
      "医生         0 non-null float64\n",
      "挂号         0 non-null float64\n",
      "设施配置       0 non-null float64\n",
      "性价比        0 non-null float64\n",
      "配套         0 non-null float64\n",
      "质量         0 non-null float64\n",
      "布置         0 non-null float64\n",
      "策划         0 non-null float64\n",
      "款式         0 non-null float64\n",
      "教练         0 non-null float64\n",
      "房间         0 non-null float64\n",
      "书籍         0 non-null float64\n",
      "综合评分       13567 non-null float64\n",
      "dtypes: datetime64[ns](1), float64(45), int64(10), object(8)\n",
      "memory usage: 7.0+ MB\n"
     ]
    }
   ],
   "source": [
    "df.info()"
   ]
  },
  {
   "cell_type": "code",
   "execution_count": null,
   "metadata": {},
   "outputs": [],
   "source": []
  }
 ],
 "metadata": {
  "kernelspec": {
   "display_name": "Python 3",
   "language": "python",
   "name": "python3"
  },
  "language_info": {
   "codemirror_mode": {
    "name": "ipython",
    "version": 3
   },
   "file_extension": ".py",
   "mimetype": "text/x-python",
   "name": "python",
   "nbconvert_exporter": "python",
   "pygments_lexer": "ipython3",
   "version": "3.7.0"
  }
 },
 "nbformat": 4,
 "nbformat_minor": 2
}
