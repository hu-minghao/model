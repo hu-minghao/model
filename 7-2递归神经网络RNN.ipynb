{
 "cells": [
  {
   "cell_type": "code",
   "execution_count": 1,
   "metadata": {
    "collapsed": true
   },
   "outputs": [],
   "source": [
    "import tensorflow as tf\n",
    "from tensorflow.examples.tutorials.mnist import input_data \n"
   ]
  },
  {
   "cell_type": "code",
   "execution_count": 2,
   "metadata": {},
   "outputs": [
    {
     "name": "stderr",
     "output_type": "stream",
     "text": [
      "WARNING: Logging before flag parsing goes to stderr.\n",
      "W0724 23:56:59.509080  8232 deprecation.py:323] From <ipython-input-2-8adacd3c6f63>:1: read_data_sets (from tensorflow.contrib.learn.python.learn.datasets.mnist) is deprecated and will be removed in a future version.\n",
      "Instructions for updating:\n",
      "Please use alternatives such as official/mnist/dataset.py from tensorflow/models.\n",
      "W0724 23:56:59.518080  8232 deprecation.py:323] From C:\\Users\\Administrator\\AppData\\Roaming\\Python\\Python35\\site-packages\\tensorflow\\contrib\\learn\\python\\learn\\datasets\\mnist.py:260: maybe_download (from tensorflow.contrib.learn.python.learn.datasets.base) is deprecated and will be removed in a future version.\n",
      "Instructions for updating:\n",
      "Please write your own downloading logic.\n",
      "W0724 23:56:59.524080  8232 deprecation.py:323] From C:\\Users\\Administrator\\AppData\\Roaming\\Python\\Python35\\site-packages\\tensorflow\\contrib\\learn\\python\\learn\\datasets\\mnist.py:262: extract_images (from tensorflow.contrib.learn.python.learn.datasets.mnist) is deprecated and will be removed in a future version.\n",
      "Instructions for updating:\n",
      "Please use tf.data to implement this functionality.\n"
     ]
    },
    {
     "name": "stdout",
     "output_type": "stream",
     "text": [
      "Extracting MNIST_data\\train-images-idx3-ubyte.gz\n"
     ]
    },
    {
     "name": "stderr",
     "output_type": "stream",
     "text": [
      "W0724 23:56:59.932104  8232 deprecation.py:323] From C:\\Users\\Administrator\\AppData\\Roaming\\Python\\Python35\\site-packages\\tensorflow\\contrib\\learn\\python\\learn\\datasets\\mnist.py:267: extract_labels (from tensorflow.contrib.learn.python.learn.datasets.mnist) is deprecated and will be removed in a future version.\n",
      "Instructions for updating:\n",
      "Please use tf.data to implement this functionality.\n",
      "W0724 23:56:59.937104  8232 deprecation.py:323] From C:\\Users\\Administrator\\AppData\\Roaming\\Python\\Python35\\site-packages\\tensorflow\\contrib\\learn\\python\\learn\\datasets\\mnist.py:110: dense_to_one_hot (from tensorflow.contrib.learn.python.learn.datasets.mnist) is deprecated and will be removed in a future version.\n",
      "Instructions for updating:\n",
      "Please use tf.one_hot on tensors.\n",
      "W0724 23:57:00.038110  8232 deprecation.py:323] From C:\\Users\\Administrator\\AppData\\Roaming\\Python\\Python35\\site-packages\\tensorflow\\contrib\\learn\\python\\learn\\datasets\\mnist.py:290: DataSet.__init__ (from tensorflow.contrib.learn.python.learn.datasets.mnist) is deprecated and will be removed in a future version.\n",
      "Instructions for updating:\n",
      "Please use alternatives such as official/mnist/dataset.py from tensorflow/models.\n"
     ]
    },
    {
     "name": "stdout",
     "output_type": "stream",
     "text": [
      "Extracting MNIST_data\\train-labels-idx1-ubyte.gz\n",
      "Extracting MNIST_data\\t10k-images-idx3-ubyte.gz\n",
      "Extracting MNIST_data\\t10k-labels-idx1-ubyte.gz\n"
     ]
    },
    {
     "name": "stderr",
     "output_type": "stream",
     "text": [
      "W0724 23:57:00.535138  8232 deprecation.py:323] From <ipython-input-2-8adacd3c6f63>:23: BasicLSTMCell.__init__ (from tensorflow.python.ops.rnn_cell_impl) is deprecated and will be removed in a future version.\n",
      "Instructions for updating:\n",
      "This class is equivalent as tf.keras.layers.LSTMCell, and will be replaced by that in Tensorflow 2.0.\n",
      "W0724 23:57:00.541139  8232 deprecation.py:323] From <ipython-input-2-8adacd3c6f63>:24: dynamic_rnn (from tensorflow.python.ops.rnn) is deprecated and will be removed in a future version.\n",
      "Instructions for updating:\n",
      "Please use `keras.layers.RNN(cell)`, which is equivalent to this API\n",
      "W0724 23:57:00.824155  8232 deprecation.py:506] From C:\\Users\\Administrator\\AppData\\Roaming\\Python\\Python35\\site-packages\\tensorflow\\python\\ops\\init_ops.py:1251: calling VarianceScaling.__init__ (from tensorflow.python.ops.init_ops) with dtype is deprecated and will be removed in a future version.\n",
      "Instructions for updating:\n",
      "Call initializer instance with the dtype argument instead of passing it to the constructor\n",
      "W0724 23:57:00.842156  8232 deprecation.py:506] From C:\\Users\\Administrator\\AppData\\Roaming\\Python\\Python35\\site-packages\\tensorflow\\python\\ops\\rnn_cell_impl.py:738: calling Zeros.__init__ (from tensorflow.python.ops.init_ops) with dtype is deprecated and will be removed in a future version.\n",
      "Instructions for updating:\n",
      "Call initializer instance with the dtype argument instead of passing it to the constructor\n",
      "W0724 23:57:01.942219  8232 deprecation.py:323] From <ipython-input-2-8adacd3c6f63>:31: softmax_cross_entropy_with_logits (from tensorflow.python.ops.nn_ops) is deprecated and will be removed in a future version.\n",
      "Instructions for updating:\n",
      "\n",
      "Future major versions of TensorFlow will allow gradients to flow\n",
      "into the labels input on backprop by default.\n",
      "\n",
      "See `tf.nn.softmax_cross_entropy_with_logits_v2`.\n",
      "\n"
     ]
    },
    {
     "name": "stdout",
     "output_type": "stream",
     "text": [
      "Iter 0,Testing Accuracy= 0.7136\n",
      "Iter 1,Testing Accuracy= 0.7683\n",
      "Iter 2,Testing Accuracy= 0.8563\n",
      "Iter 3,Testing Accuracy= 0.8958\n",
      "Iter 4,Testing Accuracy= 0.9136\n",
      "Iter 5,Testing Accuracy= 0.9246\n",
      "Iter 6,Testing Accuracy= 0.922\n",
      "Iter 7,Testing Accuracy= 0.9369\n",
      "Iter 8,Testing Accuracy= 0.9431\n",
      "Iter 9,Testing Accuracy= 0.9405\n"
     ]
    }
   ],
   "source": [
    "mnist=input_data.read_data_sets(\"MNIST_data\",one_hot=True)\n",
    "n_inputs=28#输入一行有28个数据\n",
    "max_time=28#一共28行\n",
    "lstm_size=100#100个block\n",
    "n_classes=10 #10个分类\n",
    "batch_size=50 #每个批次50个样本\n",
    "n_batch=mnist.train.num_examples//batch_size#计算总共的批次\n",
    "\n",
    "# config = tf.ConfigProto(allow_soft_placement=True, allow_soft_placement=True)\n",
    "# config.gpu_options.per_process_gpu_memory_fraction = 0.5  #占用40%显存\n",
    "\n",
    "x=tf.placeholder(tf.float32,[None,784])\n",
    "y=tf.placeholder(tf.float32,[None,10])\n",
    "\n",
    "weights=tf.Variable(tf.truncated_normal([lstm_size,n_classes],stddev=0.1))\n",
    "\n",
    "biases=tf.Variable(tf.constant(0.1,shape=[n_classes]))\n",
    "\n",
    "\n",
    "def RNN(X,weights,biases):\n",
    "    inputs=tf.reshape(X,[-1,max_time,n_inputs])\n",
    "    #lstm_cell=tf.contrib.rnn.core_run_cell.BasicLSTMCell(lstm_size)\n",
    "    lstm_cell=tf.contrib.rnn.BasicLSTMCell(lstm_size)\n",
    "    outputs,finall_state=tf.nn.dynamic_rnn(lstm_cell,inputs,dtype=tf.float32)\n",
    "    results=tf.nn.softmax(tf.matmul(finall_state[1],weights)+biases)\n",
    "    return results\n",
    "\n",
    "prediction=RNN(x,weights,biases)\n",
    "\n",
    "#定义loss函数\n",
    "loss_entropy=tf.reduce_mean(tf.nn.softmax_cross_entropy_with_logits(logits=prediction,labels=y))\n",
    "\n",
    "#定义优化器\n",
    "\n",
    "train_step=tf.train.AdamOptimizer(1e-4).minimize(loss_entropy)\n",
    "\n",
    "correct_prediction=tf.equal(tf.argmax(y,1),tf.argmax(prediction,1))\n",
    "\n",
    "accuracy=tf.reduce_mean(tf.cast(correct_prediction,tf.float32))\n",
    "\n",
    "with tf.Session(config=tf.ConfigProto(log_device_placement=True)) as sess:\n",
    "    sess.run(tf.global_variables_initializer())\n",
    "    for epoch in range(10):\n",
    "        for batch in range(n_batch):\n",
    "            batch_xs,batch_ys=mnist.train.next_batch(batch_size)\n",
    "            sess.run(train_step,feed_dict={x:batch_xs,y:batch_ys})\n",
    "        acc=sess.run(accuracy,feed_dict={x:mnist.test.images,y:mnist.test.labels})\n",
    "        print('Iter '+str(epoch)+',Testing Accuracy= '+str(acc))"
   ]
  },
  {
   "cell_type": "code",
   "execution_count": null,
   "metadata": {
    "collapsed": true
   },
   "outputs": [],
   "source": []
  }
 ],
 "metadata": {
  "kernelspec": {
   "display_name": "Python 3",
   "language": "python",
   "name": "python3"
  },
  "language_info": {
   "codemirror_mode": {
    "name": "ipython",
    "version": 3
   },
   "file_extension": ".py",
   "mimetype": "text/x-python",
   "name": "python",
   "nbconvert_exporter": "python",
   "pygments_lexer": "ipython3",
   "version": "3.7.0"
  }
 },
 "nbformat": 4,
 "nbformat_minor": 2
}
