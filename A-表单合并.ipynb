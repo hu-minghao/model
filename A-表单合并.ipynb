{
 "cells": [
  {
   "cell_type": "code",
   "execution_count": 2,
   "metadata": {},
   "outputs": [],
   "source": [
    "import pandas as pd\n",
    "import numpy as np"
   ]
  },
  {
   "cell_type": "code",
   "execution_count": 11,
   "metadata": {},
   "outputs": [
    {
     "name": "stderr",
     "output_type": "stream",
     "text": [
      "D:\\ProgramData\\Anaconda3\\lib\\site-packages\\pandas\\core\\frame.py:3697: SettingWithCopyWarning: \n",
      "A value is trying to be set on a copy of a slice from a DataFrame\n",
      "\n",
      "See the caveats in the documentation: http://pandas.pydata.org/pandas-docs/stable/indexing.html#indexing-view-versus-copy\n",
      "  errors=errors)\n"
     ]
    }
   ],
   "source": [
    "#读取表单1和表单2\n",
    "df1=pd.read_excel('E:\\Conmpany file\\支援文件\\茶饮果汁--点评最多.xlsx')\n",
    "df2=pd.read_excel('E:\\Conmpany file\\支援文件\\茶饮果汁--人气.xlsx')\n",
    "#表单合并，默认纵向axis=0\n",
    "df=pd.concat([df1,df2])\n",
    "#去‘name’重复项\n",
    "df=df.drop_duplicates('name')\n",
    "#添加categoryName列，并赋值\n",
    "df['categoryName']='茶饮'\n",
    "#星标列除以十，转为正常评分\n",
    "df['shopPower']=df['shopPower']/10\n",
    "#新建Link,由shopId生成新列\n",
    "df['Link'] =[ 'http://www.dianping.com/shop/%i' % i for i in df['shopId']]\n",
    "#删除不必要列\n",
    "df.drop(labels=['type','shopId'], axis=1,inplace = True)\n",
    "#columns重命名\n",
    "df=df.rename(columns={'name':'Shop','shopPower':'Stars','reviewCount':'No. of Reviews','categoryName':'Category','priceText':'Average Price'})\n",
    "#按城市提取数据，去掉不需要数据，重排序\n",
    "df_city1=df[df['city']=='北京']\n",
    "df_city1.drop(labels=['city','id'], axis=1,inplace = True)\n",
    "df_city2=df[df['city']=='成都']\n",
    "df_city2.drop(labels=['city','id'], axis=1,inplace = True)\n",
    "df_city3=df[df['city']=='上海']\n",
    "df_city3.drop(labels=['city','id'], axis=1,inplace = True)\n",
    "df_city4=df[df['city']=='广州']\n",
    "df_city4.drop(labels=['city','id'], axis=1,inplace = True)\n",
    "df_city1.sort_values('No. of Reviews',ascending=False)\n",
    "df_city2.sort_values('No. of Reviews',ascending=False)\n",
    "df_city3.sort_values('No. of Reviews',ascending=False)\n",
    "df_city4.sort_values('No. of Reviews',ascending=False)\n",
    "#对人气表单单独提取，不改变原来的排序\n",
    "df_new=pd.read_excel('E:\\Conmpany file\\支援文件\\茶饮果汁--人气.xlsx')\n",
    "df_new['categoryName']='茶饮'\n",
    "df_new['shopPower']=df_new['shopPower']/10\n",
    "df_new=df_new.drop_duplicates('name')\n",
    "df_new['Link'] =[ 'http://www.dianping.com/shop/%i' % i for i in df_new['shopId']]\n",
    "df_new.drop(labels=['type','shopId'], axis=1,inplace = True)\n",
    "df_new=df_new.rename(columns={'name':'Shop','shopPower':'Stars','reviewCount':'No. of Reviews','categoryName':'Category','priceText':'Average Price'})\n",
    "df_city5=df_new[df_new['city']=='北京']\n",
    "df_city5.drop(labels=['city','id'], axis=1,inplace = True)\n",
    "df_city6=df_new[df_new['city']=='成都']\n",
    "df_city6.drop(labels=['city','id'], axis=1,inplace = True)\n",
    "df_city7=df_new[df_new['city']=='上海']\n",
    "df_city7.drop(labels=['city','id'], axis=1,inplace = True)\n",
    "df_city8=df_new[df_new['city']=='广州']\n",
    "df_city8.drop(labels=['city','id'], axis=1,inplace = True)\n",
    "#将八个表单存入一个Excel中\n",
    "with pd.ExcelWriter('E:\\Conmpany file\\支援文件\\Tea beverage.xlsx') as writer:\n",
    "    df_city1.to_excel(writer, sheet_name='Beijing (By No.of Reviews)',index=False)\n",
    "    df_city5.to_excel(writer, sheet_name='Beijing (By Trending Index)',index=False )\n",
    "    df_city2.to_excel(writer, sheet_name='Chengdu (By No.of Reviews)',index=False)\n",
    "    df_city6.to_excel(writer, sheet_name='Chengdu (By Trending Index)',index=False )\n",
    "    df_city3.to_excel(writer, sheet_name='Shanghai (By No.of Reviews)',index=False)\n",
    "    df_city7.to_excel(writer, sheet_name='Shanghai (By Trending Index)',index=False)\n",
    "    df_city4.to_excel(writer, sheet_name='Guangzhou (By No.of Reviews)',index=False)\n",
    "    df_city8.to_excel(writer, sheet_name='Guangzhou (By Trending Index)',index=False )\n"
   ]
  },
  {
   "cell_type": "code",
   "execution_count": 28,
   "metadata": {},
   "outputs": [],
   "source": [
    "df=df.rename(columns={'name':'Shop','shopPower':'Stars','reviewCount':'No. of Reviews','categoryName':'Category','priceText':'Average Price'})\n"
   ]
  },
  {
   "cell_type": "code",
   "execution_count": 38,
   "metadata": {},
   "outputs": [],
   "source": [
    "df_city1.to_excel('E:\\Conmpany file\\支援文件\\Tea beverage1.xlsx', sheet_name='Beijing (By No.of Reviews)',index=False)\n",
    "df_city2.to_excel('E:\\Conmpany file\\支援文件\\Tea beverage2.xlsx', sheet_name='Chengdu (By No.of Reviews)',index=False)\n",
    "df_city3.to_excel('E:\\Conmpany file\\支援文件\\Tea beverage3.xlsx', sheet_name='Shanghai (By No.of Reviews)',index=False)\n",
    "df_city4.to_excel('E:\\Conmpany file\\支援文件\\Tea beverage4.xlsx', sheet_name='Guangzhou (By No.of Reviews)',index=False)\n"
   ]
  },
  {
   "cell_type": "code",
   "execution_count": 9,
   "metadata": {},
   "outputs": [
    {
     "name": "stderr",
     "output_type": "stream",
     "text": [
      "D:\\ProgramData\\Anaconda3\\lib\\site-packages\\pandas\\core\\frame.py:3697: SettingWithCopyWarning: \n",
      "A value is trying to be set on a copy of a slice from a DataFrame\n",
      "\n",
      "See the caveats in the documentation: http://pandas.pydata.org/pandas-docs/stable/indexing.html#indexing-view-versus-copy\n",
      "  errors=errors)\n"
     ]
    },
    {
     "ename": "TypeError",
     "evalue": "to_excel() got an unexpected keyword argument 'mode'",
     "output_type": "error",
     "traceback": [
      "\u001b[1;31m---------------------------------------------------------------------------\u001b[0m",
      "\u001b[1;31mTypeError\u001b[0m                                 Traceback (most recent call last)",
      "\u001b[1;32m<ipython-input-9-ff0c6e14301b>\u001b[0m in \u001b[0;36m<module>\u001b[1;34m()\u001b[0m\n\u001b[0;32m     15\u001b[0m \u001b[0mdf_city4\u001b[0m\u001b[1;33m.\u001b[0m\u001b[0mdrop\u001b[0m\u001b[1;33m(\u001b[0m\u001b[0mlabels\u001b[0m\u001b[1;33m=\u001b[0m\u001b[1;33m[\u001b[0m\u001b[1;34m'city'\u001b[0m\u001b[1;33m,\u001b[0m\u001b[1;34m'id'\u001b[0m\u001b[1;33m]\u001b[0m\u001b[1;33m,\u001b[0m \u001b[0maxis\u001b[0m\u001b[1;33m=\u001b[0m\u001b[1;36m1\u001b[0m\u001b[1;33m,\u001b[0m\u001b[0minplace\u001b[0m \u001b[1;33m=\u001b[0m \u001b[1;32mTrue\u001b[0m\u001b[1;33m)\u001b[0m\u001b[1;33m\u001b[0m\u001b[0m\n\u001b[0;32m     16\u001b[0m \u001b[1;32mwith\u001b[0m \u001b[0mpd\u001b[0m\u001b[1;33m.\u001b[0m\u001b[0mExcelWriter\u001b[0m\u001b[1;33m(\u001b[0m\u001b[1;34m'E:\\Conmpany file\\支援文件\\Tea beverage.xlsx'\u001b[0m\u001b[1;33m)\u001b[0m \u001b[1;32mas\u001b[0m \u001b[0mwriter\u001b[0m\u001b[1;33m:\u001b[0m\u001b[1;33m\u001b[0m\u001b[0m\n\u001b[1;32m---> 17\u001b[1;33m     \u001b[0mdf_city1\u001b[0m\u001b[1;33m.\u001b[0m\u001b[0mto_excel\u001b[0m\u001b[1;33m(\u001b[0m\u001b[0mwriter\u001b[0m\u001b[1;33m,\u001b[0m \u001b[0msheet_name\u001b[0m\u001b[1;33m=\u001b[0m\u001b[1;34m'Beijing (By Trending Index)'\u001b[0m\u001b[1;33m,\u001b[0m\u001b[0mindex\u001b[0m\u001b[1;33m=\u001b[0m\u001b[1;32mFalse\u001b[0m\u001b[1;33m,\u001b[0m\u001b[0mmode\u001b[0m\u001b[1;33m=\u001b[0m\u001b[1;34m'a'\u001b[0m\u001b[1;33m)\u001b[0m\u001b[1;33m\u001b[0m\u001b[0m\n\u001b[0m\u001b[0;32m     18\u001b[0m     \u001b[0mdf_city2\u001b[0m\u001b[1;33m.\u001b[0m\u001b[0mto_excel\u001b[0m\u001b[1;33m(\u001b[0m\u001b[0mwriter\u001b[0m\u001b[1;33m,\u001b[0m \u001b[0msheet_name\u001b[0m\u001b[1;33m=\u001b[0m\u001b[1;34m'Chengdu (By Trending Index)'\u001b[0m\u001b[1;33m,\u001b[0m\u001b[0mindex\u001b[0m\u001b[1;33m=\u001b[0m\u001b[1;32mFalse\u001b[0m\u001b[1;33m,\u001b[0m\u001b[0mmode\u001b[0m\u001b[1;33m=\u001b[0m\u001b[1;34m'a'\u001b[0m\u001b[1;33m)\u001b[0m\u001b[1;33m\u001b[0m\u001b[0m\n\u001b[0;32m     19\u001b[0m     \u001b[0mdf_city3\u001b[0m\u001b[1;33m.\u001b[0m\u001b[0mto_excel\u001b[0m\u001b[1;33m(\u001b[0m\u001b[0mwriter\u001b[0m\u001b[1;33m,\u001b[0m \u001b[0msheet_name\u001b[0m\u001b[1;33m=\u001b[0m\u001b[1;34m'Shanghai (By Trending Index)'\u001b[0m\u001b[1;33m,\u001b[0m\u001b[0mindex\u001b[0m\u001b[1;33m=\u001b[0m\u001b[1;32mFalse\u001b[0m\u001b[1;33m,\u001b[0m\u001b[0mmode\u001b[0m\u001b[1;33m=\u001b[0m\u001b[1;34m'a'\u001b[0m\u001b[1;33m)\u001b[0m\u001b[1;33m\u001b[0m\u001b[0m\n",
      "\u001b[1;31mTypeError\u001b[0m: to_excel() got an unexpected keyword argument 'mode'"
     ]
    }
   ],
   "source": [
    "df=pd.read_excel('E:\\Conmpany file\\支援文件\\茶饮果汁--人气.xlsx')\n",
    "df['categoryName']='茶饮'\n",
    "df['shopPower']=df['shopPower']/10\n",
    "df=df.drop_duplicates('name')\n",
    "df['Link'] =[ 'http://www.dianping.com/shop/ % i' % i for i in df['shopId']]\n",
    "df.drop(labels=['type','shopId'], axis=1,inplace = True)\n",
    "df=df.rename(columns={'name':'Shop','shopPower':'Stars','reviewCount':'No. of Reviews','categoryName':'Category','priceText':'Average Price'})\n",
    "df_city1=df[df['city']=='北京']\n",
    "df_city1.drop(labels=['city','id'], axis=1,inplace = True)\n",
    "df_city2=df[df['city']=='成都']\n",
    "df_city2.drop(labels=['city','id'], axis=1,inplace = True)\n",
    "df_city3=df[df['city']=='上海']\n",
    "df_city3.drop(labels=['city','id'], axis=1,inplace = True)\n",
    "df_city4=df[df['city']=='广州']\n",
    "df_city4.drop(labels=['city','id'], axis=1,inplace = True)\n",
    "with pd.ExcelWriter('E:\\Conmpany file\\支援文件\\Tea beverage.xlsx') as writer:\n",
    "    df_city1.to_excel(writer, sheet_name='Beijing (By Trending Index)',index=False,mode='a')\n",
    "    df_city2.to_excel(writer, sheet_name='Chengdu (By Trending Index)',index=False,mode='a')\n",
    "    df_city3.to_excel(writer, sheet_name='Shanghai (By Trending Index)',index=False,mode='a')\n",
    "    df_city4.to_excel(writer, sheet_name='Guangzhou (By Trending Index)',index=False,mode='a')\n"
   ]
  },
  {
   "cell_type": "code",
   "execution_count": null,
   "metadata": {},
   "outputs": [],
   "source": []
  }
 ],
 "metadata": {
  "kernelspec": {
   "display_name": "Python 3",
   "language": "python",
   "name": "python3"
  },
  "language_info": {
   "codemirror_mode": {
    "name": "ipython",
    "version": 3
   },
   "file_extension": ".py",
   "mimetype": "text/x-python",
   "name": "python",
   "nbconvert_exporter": "python",
   "pygments_lexer": "ipython3",
   "version": "3.7.0"
  }
 },
 "nbformat": 4,
 "nbformat_minor": 2
}
