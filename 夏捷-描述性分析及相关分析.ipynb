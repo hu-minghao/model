{
 "cells": [
  {
   "cell_type": "code",
   "execution_count": 1,
   "metadata": {},
   "outputs": [],
   "source": [
    "import pandas as pd\n",
    "import numpy as np"
   ]
  },
  {
   "cell_type": "code",
   "execution_count": 9,
   "metadata": {},
   "outputs": [],
   "source": [
    "import matplotlib.pyplot as plt\n",
    "import seaborn as sns"
   ]
  },
  {
   "cell_type": "code",
   "execution_count": 10,
   "metadata": {},
   "outputs": [],
   "source": [
    "import matplotlib as mpl\n",
    "# 排除警告信息\n",
    "import warnings\n",
    "# matplotlib画图常见参数设置\n",
    "mpl.rcParams[\"font.family\"] = \"SimHei\" \n",
    "# 设置字体\n",
    "mpl.rcParams[\"axes.unicode_minus\"]=False \n",
    "# 用来正常显示负号\n",
    "plt.rcParams['font.sans-serif']=['SimHei'] \n",
    "# 用来正常显示中文标签# 嵌入式显示图形\n",
    "%matplotlib inline\n",
    "warnings.filterwarnings(\"ignore\")"
   ]
  },
  {
   "cell_type": "code",
   "execution_count": 2,
   "metadata": {},
   "outputs": [
    {
     "data": {
      "text/plain": [
       "(600, 16)"
      ]
     },
     "execution_count": 2,
     "metadata": {},
     "output_type": "execute_result"
    }
   ],
   "source": [
    "file_path='E:/data analy/客户数据/夏-交付文件/'\n",
    "raw_data=pd.read_excel(file_path+'大数据.xlsx')\n",
    "raw_data.shape"
   ]
  },
  {
   "cell_type": "code",
   "execution_count": 3,
   "metadata": {},
   "outputs": [
    {
     "data": {
      "text/html": [
       "<div>\n",
       "<style scoped>\n",
       "    .dataframe tbody tr th:only-of-type {\n",
       "        vertical-align: middle;\n",
       "    }\n",
       "\n",
       "    .dataframe tbody tr th {\n",
       "        vertical-align: top;\n",
       "    }\n",
       "\n",
       "    .dataframe thead th {\n",
       "        text-align: right;\n",
       "    }\n",
       "</style>\n",
       "<table border=\"1\" class=\"dataframe\">\n",
       "  <thead>\n",
       "    <tr style=\"text-align: right;\">\n",
       "      <th></th>\n",
       "      <th>年级</th>\n",
       "      <th>生活区域</th>\n",
       "      <th>月消费</th>\n",
       "      <th>消费来源</th>\n",
       "      <th>消费用途</th>\n",
       "      <th>零食花费</th>\n",
       "      <th>娱乐消费</th>\n",
       "      <th>影响购物因素</th>\n",
       "      <th>消费看法</th>\n",
       "      <th>增加消费一</th>\n",
       "      <th>增加消费二</th>\n",
       "      <th>增加消费三</th>\n",
       "      <th>合理月消费</th>\n",
       "      <th>消费观点</th>\n",
       "      <th>购物方式</th>\n",
       "      <th>计划消费</th>\n",
       "    </tr>\n",
       "  </thead>\n",
       "  <tbody>\n",
       "    <tr>\n",
       "      <th>0</th>\n",
       "      <td>1</td>\n",
       "      <td>2</td>\n",
       "      <td>600</td>\n",
       "      <td>1</td>\n",
       "      <td>1</td>\n",
       "      <td>2</td>\n",
       "      <td>3</td>\n",
       "      <td>2</td>\n",
       "      <td>3</td>\n",
       "      <td>6</td>\n",
       "      <td>6</td>\n",
       "      <td>4</td>\n",
       "      <td>800</td>\n",
       "      <td>3</td>\n",
       "      <td>3</td>\n",
       "      <td>2</td>\n",
       "    </tr>\n",
       "    <tr>\n",
       "      <th>1</th>\n",
       "      <td>2</td>\n",
       "      <td>2</td>\n",
       "      <td>700</td>\n",
       "      <td>2</td>\n",
       "      <td>2</td>\n",
       "      <td>2</td>\n",
       "      <td>4</td>\n",
       "      <td>2</td>\n",
       "      <td>2</td>\n",
       "      <td>2</td>\n",
       "      <td>1</td>\n",
       "      <td>6</td>\n",
       "      <td>800</td>\n",
       "      <td>2</td>\n",
       "      <td>3</td>\n",
       "      <td>3</td>\n",
       "    </tr>\n",
       "    <tr>\n",
       "      <th>2</th>\n",
       "      <td>3</td>\n",
       "      <td>2</td>\n",
       "      <td>700</td>\n",
       "      <td>1</td>\n",
       "      <td>3</td>\n",
       "      <td>3</td>\n",
       "      <td>3</td>\n",
       "      <td>2</td>\n",
       "      <td>3</td>\n",
       "      <td>5</td>\n",
       "      <td>2</td>\n",
       "      <td>1</td>\n",
       "      <td>800</td>\n",
       "      <td>3</td>\n",
       "      <td>3</td>\n",
       "      <td>2</td>\n",
       "    </tr>\n",
       "    <tr>\n",
       "      <th>3</th>\n",
       "      <td>4</td>\n",
       "      <td>1</td>\n",
       "      <td>900</td>\n",
       "      <td>1</td>\n",
       "      <td>3</td>\n",
       "      <td>3</td>\n",
       "      <td>5</td>\n",
       "      <td>3</td>\n",
       "      <td>2</td>\n",
       "      <td>5</td>\n",
       "      <td>4</td>\n",
       "      <td>7</td>\n",
       "      <td>900</td>\n",
       "      <td>2</td>\n",
       "      <td>3</td>\n",
       "      <td>2</td>\n",
       "    </tr>\n",
       "    <tr>\n",
       "      <th>4</th>\n",
       "      <td>1</td>\n",
       "      <td>1</td>\n",
       "      <td>900</td>\n",
       "      <td>1</td>\n",
       "      <td>3</td>\n",
       "      <td>2</td>\n",
       "      <td>3</td>\n",
       "      <td>3</td>\n",
       "      <td>1</td>\n",
       "      <td>6</td>\n",
       "      <td>1</td>\n",
       "      <td>5</td>\n",
       "      <td>900</td>\n",
       "      <td>1</td>\n",
       "      <td>2</td>\n",
       "      <td>2</td>\n",
       "    </tr>\n",
       "  </tbody>\n",
       "</table>\n",
       "</div>"
      ],
      "text/plain": [
       "   年级  生活区域  月消费  消费来源  消费用途  零食花费  娱乐消费  影响购物因素  消费看法  增加消费一  增加消费二  增加消费三  \\\n",
       "0   1     2  600     1     1     2     3       2     3      6      6      4   \n",
       "1   2     2  700     2     2     2     4       2     2      2      1      6   \n",
       "2   3     2  700     1     3     3     3       2     3      5      2      1   \n",
       "3   4     1  900     1     3     3     5       3     2      5      4      7   \n",
       "4   1     1  900     1     3     2     3       3     1      6      1      5   \n",
       "\n",
       "   合理月消费  消费观点  购物方式  计划消费  \n",
       "0    800     3     3     2  \n",
       "1    800     2     3     3  \n",
       "2    800     3     3     2  \n",
       "3    900     2     3     2  \n",
       "4    900     1     2     2  "
      ]
     },
     "execution_count": 3,
     "metadata": {},
     "output_type": "execute_result"
    }
   ],
   "source": [
    "raw_data.head()"
   ]
  },
  {
   "cell_type": "code",
   "execution_count": 4,
   "metadata": {},
   "outputs": [
    {
     "data": {
      "text/html": [
       "<div>\n",
       "<style scoped>\n",
       "    .dataframe tbody tr th:only-of-type {\n",
       "        vertical-align: middle;\n",
       "    }\n",
       "\n",
       "    .dataframe tbody tr th {\n",
       "        vertical-align: top;\n",
       "    }\n",
       "\n",
       "    .dataframe thead th {\n",
       "        text-align: right;\n",
       "    }\n",
       "</style>\n",
       "<table border=\"1\" class=\"dataframe\">\n",
       "  <thead>\n",
       "    <tr style=\"text-align: right;\">\n",
       "      <th></th>\n",
       "      <th>年级</th>\n",
       "      <th>生活区域</th>\n",
       "      <th>月消费</th>\n",
       "      <th>消费来源</th>\n",
       "      <th>消费用途</th>\n",
       "      <th>零食花费</th>\n",
       "      <th>娱乐消费</th>\n",
       "      <th>影响购物因素</th>\n",
       "      <th>消费看法</th>\n",
       "      <th>增加消费一</th>\n",
       "      <th>增加消费二</th>\n",
       "      <th>增加消费三</th>\n",
       "      <th>合理月消费</th>\n",
       "      <th>消费观点</th>\n",
       "      <th>购物方式</th>\n",
       "      <th>计划消费</th>\n",
       "    </tr>\n",
       "  </thead>\n",
       "  <tbody>\n",
       "    <tr>\n",
       "      <th>0</th>\n",
       "      <td>大一</td>\n",
       "      <td>农村</td>\n",
       "      <td>600</td>\n",
       "      <td>父母</td>\n",
       "      <td>饮食方面</td>\n",
       "      <td>50—80元</td>\n",
       "      <td>100-150元</td>\n",
       "      <td>外表美观</td>\n",
       "      <td>消费适中</td>\n",
       "      <td>日用品</td>\n",
       "      <td>日用品</td>\n",
       "      <td>零食</td>\n",
       "      <td>800</td>\n",
       "      <td>尽量追求高标准</td>\n",
       "      <td>部分网上，部分线下</td>\n",
       "      <td>没有计划</td>\n",
       "    </tr>\n",
       "    <tr>\n",
       "      <th>1</th>\n",
       "      <td>大二</td>\n",
       "      <td>农村</td>\n",
       "      <td>700</td>\n",
       "      <td>打工</td>\n",
       "      <td>学习方面</td>\n",
       "      <td>50—80元</td>\n",
       "      <td>150-200元</td>\n",
       "      <td>外表美观</td>\n",
       "      <td>消费偏高</td>\n",
       "      <td>服装</td>\n",
       "      <td>伙食</td>\n",
       "      <td>日用品</td>\n",
       "      <td>800</td>\n",
       "      <td>兼顾实惠和商标</td>\n",
       "      <td>部分网上，部分线下</td>\n",
       "      <td>有部分计划</td>\n",
       "    </tr>\n",
       "    <tr>\n",
       "      <th>2</th>\n",
       "      <td>大三</td>\n",
       "      <td>农村</td>\n",
       "      <td>700</td>\n",
       "      <td>父母</td>\n",
       "      <td>服装方面</td>\n",
       "      <td>80—100元</td>\n",
       "      <td>100-150元</td>\n",
       "      <td>外表美观</td>\n",
       "      <td>消费适中</td>\n",
       "      <td>娱乐</td>\n",
       "      <td>服装</td>\n",
       "      <td>伙食</td>\n",
       "      <td>800</td>\n",
       "      <td>尽量追求高标准</td>\n",
       "      <td>部分网上，部分线下</td>\n",
       "      <td>没有计划</td>\n",
       "    </tr>\n",
       "    <tr>\n",
       "      <th>3</th>\n",
       "      <td>大四</td>\n",
       "      <td>城镇</td>\n",
       "      <td>900</td>\n",
       "      <td>父母</td>\n",
       "      <td>服装方面</td>\n",
       "      <td>80—100元</td>\n",
       "      <td>200元以上</td>\n",
       "      <td>价格</td>\n",
       "      <td>消费偏高</td>\n",
       "      <td>娱乐</td>\n",
       "      <td>零食</td>\n",
       "      <td>其他</td>\n",
       "      <td>900</td>\n",
       "      <td>兼顾实惠和商标</td>\n",
       "      <td>部分网上，部分线下</td>\n",
       "      <td>没有计划</td>\n",
       "    </tr>\n",
       "    <tr>\n",
       "      <th>4</th>\n",
       "      <td>大一</td>\n",
       "      <td>城镇</td>\n",
       "      <td>900</td>\n",
       "      <td>父母</td>\n",
       "      <td>服装方面</td>\n",
       "      <td>50—80元</td>\n",
       "      <td>100-150元</td>\n",
       "      <td>价格</td>\n",
       "      <td>消费过高</td>\n",
       "      <td>日用品</td>\n",
       "      <td>伙食</td>\n",
       "      <td>娱乐</td>\n",
       "      <td>900</td>\n",
       "      <td>以经济实惠为主</td>\n",
       "      <td>全线下购买</td>\n",
       "      <td>没有计划</td>\n",
       "    </tr>\n",
       "  </tbody>\n",
       "</table>\n",
       "</div>"
      ],
      "text/plain": [
       "   年级 生活区域  月消费 消费来源  消费用途     零食花费      娱乐消费 影响购物因素  消费看法 增加消费一 增加消费二 增加消费三  \\\n",
       "0  大一   农村  600   父母  饮食方面   50—80元  100-150元   外表美观  消费适中   日用品   日用品    零食   \n",
       "1  大二   农村  700   打工  学习方面   50—80元  150-200元   外表美观  消费偏高    服装    伙食   日用品   \n",
       "2  大三   农村  700   父母  服装方面  80—100元  100-150元   外表美观  消费适中    娱乐    服装    伙食   \n",
       "3  大四   城镇  900   父母  服装方面  80—100元    200元以上     价格  消费偏高    娱乐    零食    其他   \n",
       "4  大一   城镇  900   父母  服装方面   50—80元  100-150元     价格  消费过高   日用品    伙食    娱乐   \n",
       "\n",
       "   合理月消费     消费观点       购物方式   计划消费  \n",
       "0    800  尽量追求高标准  部分网上，部分线下   没有计划  \n",
       "1    800  兼顾实惠和商标  部分网上，部分线下  有部分计划  \n",
       "2    800  尽量追求高标准  部分网上，部分线下   没有计划  \n",
       "3    900  兼顾实惠和商标  部分网上，部分线下   没有计划  \n",
       "4    900  以经济实惠为主      全线下购买   没有计划  "
      ]
     },
     "execution_count": 4,
     "metadata": {},
     "output_type": "execute_result"
    }
   ],
   "source": [
    "mapping_dict={'年级':{1:'大一',\n",
    "                      2:'大二',\n",
    "                      3:'大三',\n",
    "                      4:'大四'},\n",
    "              \n",
    "              '生活区域':{\n",
    "                  1:'城镇',\n",
    "                  2:'农村'},\n",
    "              \n",
    "              '消费来源':{\n",
    "                  1:'父母',\n",
    "                  2:'打工',\n",
    "                  3:'奖学金',\n",
    "                  4:'其他'},\n",
    "              \n",
    "              '消费用途':{\n",
    "                  1:'饮食方面',\n",
    "                  2:'学习方面',\n",
    "                  3:'服装方面',\n",
    "              4:'日化用品',\n",
    "              5:'其他'},\n",
    "              \n",
    "              '零食花费':{\n",
    "                  1:'50元以下',\n",
    "                  2:'50—80元',\n",
    "                  3:'80—100元',\n",
    "                  4:'100—120元',\n",
    "                  5:'120元以上'\n",
    "              },\n",
    "              \n",
    "              '娱乐消费':{\n",
    "                  1:'50元以下',\n",
    "                  2:'50-100元',\n",
    "                  3:'100-150元',\n",
    "                  4:'150-200元',\n",
    "                  5:'200元以上',\n",
    "              },\n",
    "              \n",
    "              '影响购物因素':{\n",
    "                  1:'质量',\n",
    "                  2:'外表美观',\n",
    "                  3:'价格',\n",
    "                  4:'品牌',\n",
    "                  5:'其他'\n",
    "              },\n",
    "              \n",
    "              '消费看法':{\n",
    "                  1:'消费过高',\n",
    "                  2:'消费偏高',\n",
    "                  3:'消费适中',\n",
    "                  4:'比较节俭'\n",
    "              },\n",
    "              \n",
    "              '增加消费一':{\n",
    "                  1:'伙食',\n",
    "                  2:'服装',\n",
    "                  3:'学习费用',\n",
    "                  4:'零食',\n",
    "                  5:'娱乐',\n",
    "                  6:'日用品',\n",
    "                  7:'其他'\n",
    "              },\n",
    "              \n",
    "               '增加消费二':{\n",
    "                  1:'伙食',\n",
    "                  2:'服装',\n",
    "                  3:'学习费用',\n",
    "                  4:'零食',\n",
    "                  5:'娱乐',\n",
    "                  6:'日用品',\n",
    "                  7:'其他'\n",
    "              },\n",
    "              \n",
    "               '增加消费三':{\n",
    "                  1:'伙食',\n",
    "                  2:'服装',\n",
    "                  3:'学习费用',\n",
    "                  4:'零食',\n",
    "                  5:'娱乐',\n",
    "                  6:'日用品',\n",
    "                  7:'其他'\n",
    "              },\n",
    "              \n",
    "              '消费观点':{\n",
    "                  1:'以经济实惠为主',\n",
    "                  2:'兼顾实惠和商标',\n",
    "                  3:'尽量追求高标准',\n",
    "                  4:'看心情'\n",
    "              },\n",
    "              \n",
    "              '购物方式':{\n",
    "                  1:'全网购',\n",
    "                  2:'全线下购买',\n",
    "                  3:'部分网上，部分线下'\n",
    "                  \n",
    "              },\n",
    "              \n",
    "              '计划消费':{\n",
    "                  1:'有计划',\n",
    "                  2:'没有计划',\n",
    "                  3:'有部分计划'\n",
    "              }  \n",
    "}\n",
    "\n",
    "data=raw_data.replace(mapping_dict)\n",
    "data.head()"
   ]
  },
  {
   "cell_type": "code",
   "execution_count": 5,
   "metadata": {},
   "outputs": [],
   "source": [
    "data.to_csv(file_path+'re_大数据.csv',index=False)"
   ]
  },
  {
   "cell_type": "code",
   "execution_count": 7,
   "metadata": {},
   "outputs": [
    {
     "data": {
      "text/html": [
       "<div>\n",
       "<style scoped>\n",
       "    .dataframe tbody tr th:only-of-type {\n",
       "        vertical-align: middle;\n",
       "    }\n",
       "\n",
       "    .dataframe tbody tr th {\n",
       "        vertical-align: top;\n",
       "    }\n",
       "\n",
       "    .dataframe thead th {\n",
       "        text-align: right;\n",
       "    }\n",
       "</style>\n",
       "<table border=\"1\" class=\"dataframe\">\n",
       "  <thead>\n",
       "    <tr style=\"text-align: right;\">\n",
       "      <th></th>\n",
       "      <th>年级</th>\n",
       "      <th>生活区域</th>\n",
       "      <th>消费来源</th>\n",
       "      <th>消费用途</th>\n",
       "      <th>零食花费</th>\n",
       "      <th>娱乐消费</th>\n",
       "      <th>影响购物因素</th>\n",
       "      <th>消费看法</th>\n",
       "      <th>增加消费一</th>\n",
       "      <th>增加消费二</th>\n",
       "      <th>增加消费三</th>\n",
       "      <th>消费观点</th>\n",
       "      <th>购物方式</th>\n",
       "      <th>计划消费</th>\n",
       "    </tr>\n",
       "  </thead>\n",
       "  <tbody>\n",
       "    <tr>\n",
       "      <th>count</th>\n",
       "      <td>600</td>\n",
       "      <td>600</td>\n",
       "      <td>600</td>\n",
       "      <td>600</td>\n",
       "      <td>600</td>\n",
       "      <td>600</td>\n",
       "      <td>600</td>\n",
       "      <td>600</td>\n",
       "      <td>600</td>\n",
       "      <td>600</td>\n",
       "      <td>600</td>\n",
       "      <td>600</td>\n",
       "      <td>600</td>\n",
       "      <td>600</td>\n",
       "    </tr>\n",
       "    <tr>\n",
       "      <th>unique</th>\n",
       "      <td>4</td>\n",
       "      <td>2</td>\n",
       "      <td>4</td>\n",
       "      <td>5</td>\n",
       "      <td>5</td>\n",
       "      <td>5</td>\n",
       "      <td>5</td>\n",
       "      <td>4</td>\n",
       "      <td>7</td>\n",
       "      <td>7</td>\n",
       "      <td>7</td>\n",
       "      <td>4</td>\n",
       "      <td>3</td>\n",
       "      <td>3</td>\n",
       "    </tr>\n",
       "    <tr>\n",
       "      <th>top</th>\n",
       "      <td>大四</td>\n",
       "      <td>农村</td>\n",
       "      <td>父母</td>\n",
       "      <td>服装方面</td>\n",
       "      <td>50—80元</td>\n",
       "      <td>100-150元</td>\n",
       "      <td>外表美观</td>\n",
       "      <td>消费偏高</td>\n",
       "      <td>日用品</td>\n",
       "      <td>零食</td>\n",
       "      <td>学习费用</td>\n",
       "      <td>兼顾实惠和商标</td>\n",
       "      <td>部分网上，部分线下</td>\n",
       "      <td>没有计划</td>\n",
       "    </tr>\n",
       "    <tr>\n",
       "      <th>freq</th>\n",
       "      <td>204</td>\n",
       "      <td>377</td>\n",
       "      <td>416</td>\n",
       "      <td>179</td>\n",
       "      <td>191</td>\n",
       "      <td>267</td>\n",
       "      <td>257</td>\n",
       "      <td>296</td>\n",
       "      <td>95</td>\n",
       "      <td>95</td>\n",
       "      <td>94</td>\n",
       "      <td>296</td>\n",
       "      <td>394</td>\n",
       "      <td>276</td>\n",
       "    </tr>\n",
       "  </tbody>\n",
       "</table>\n",
       "</div>"
      ],
      "text/plain": [
       "         年级 生活区域 消费来源  消费用途    零食花费      娱乐消费 影响购物因素  消费看法 增加消费一 增加消费二 增加消费三  \\\n",
       "count   600  600  600   600     600       600    600   600   600   600   600   \n",
       "unique    4    2    4     5       5         5      5     4     7     7     7   \n",
       "top      大四   农村   父母  服装方面  50—80元  100-150元   外表美观  消费偏高   日用品    零食  学习费用   \n",
       "freq    204  377  416   179     191       267    257   296    95    95    94   \n",
       "\n",
       "           消费观点       购物方式  计划消费  \n",
       "count       600        600   600  \n",
       "unique        4          3     3  \n",
       "top     兼顾实惠和商标  部分网上，部分线下  没有计划  \n",
       "freq        296        394   276  "
      ]
     },
     "execution_count": 7,
     "metadata": {},
     "output_type": "execute_result"
    }
   ],
   "source": [
    "data.select_dtypes(include=['O']).describe()"
   ]
  },
  {
   "cell_type": "code",
   "execution_count": 8,
   "metadata": {},
   "outputs": [
    {
     "data": {
      "text/html": [
       "<div>\n",
       "<style scoped>\n",
       "    .dataframe tbody tr th:only-of-type {\n",
       "        vertical-align: middle;\n",
       "    }\n",
       "\n",
       "    .dataframe tbody tr th {\n",
       "        vertical-align: top;\n",
       "    }\n",
       "\n",
       "    .dataframe thead th {\n",
       "        text-align: right;\n",
       "    }\n",
       "</style>\n",
       "<table border=\"1\" class=\"dataframe\">\n",
       "  <thead>\n",
       "    <tr style=\"text-align: right;\">\n",
       "      <th></th>\n",
       "      <th>月消费</th>\n",
       "      <th>合理月消费</th>\n",
       "    </tr>\n",
       "  </thead>\n",
       "  <tbody>\n",
       "    <tr>\n",
       "      <th>count</th>\n",
       "      <td>600.000000</td>\n",
       "      <td>600.00000</td>\n",
       "    </tr>\n",
       "    <tr>\n",
       "      <th>mean</th>\n",
       "      <td>830.833333</td>\n",
       "      <td>906.50000</td>\n",
       "    </tr>\n",
       "    <tr>\n",
       "      <th>std</th>\n",
       "      <td>98.905389</td>\n",
       "      <td>104.36748</td>\n",
       "    </tr>\n",
       "    <tr>\n",
       "      <th>min</th>\n",
       "      <td>500.000000</td>\n",
       "      <td>600.00000</td>\n",
       "    </tr>\n",
       "    <tr>\n",
       "      <th>25%</th>\n",
       "      <td>800.000000</td>\n",
       "      <td>800.00000</td>\n",
       "    </tr>\n",
       "    <tr>\n",
       "      <th>50%</th>\n",
       "      <td>800.000000</td>\n",
       "      <td>900.00000</td>\n",
       "    </tr>\n",
       "    <tr>\n",
       "      <th>75%</th>\n",
       "      <td>900.000000</td>\n",
       "      <td>1000.00000</td>\n",
       "    </tr>\n",
       "    <tr>\n",
       "      <th>max</th>\n",
       "      <td>1100.000000</td>\n",
       "      <td>1200.00000</td>\n",
       "    </tr>\n",
       "  </tbody>\n",
       "</table>\n",
       "</div>"
      ],
      "text/plain": [
       "               月消费       合理月消费\n",
       "count   600.000000   600.00000\n",
       "mean    830.833333   906.50000\n",
       "std      98.905389   104.36748\n",
       "min     500.000000   600.00000\n",
       "25%     800.000000   800.00000\n",
       "50%     800.000000   900.00000\n",
       "75%     900.000000  1000.00000\n",
       "max    1100.000000  1200.00000"
      ]
     },
     "execution_count": 8,
     "metadata": {},
     "output_type": "execute_result"
    }
   ],
   "source": [
    "data.describe()"
   ]
  },
  {
   "cell_type": "code",
   "execution_count": 25,
   "metadata": {},
   "outputs": [
    {
     "name": "stdout",
     "output_type": "stream",
     "text": [
      "<class 'pandas.core.frame.DataFrame'>\n",
      "RangeIndex: 600 entries, 0 to 599\n",
      "Data columns (total 16 columns):\n",
      "年级        600 non-null object\n",
      "生活区域      600 non-null object\n",
      "月消费       600 non-null int64\n",
      "消费来源      600 non-null object\n",
      "消费用途      600 non-null object\n",
      "零食花费      600 non-null object\n",
      "娱乐消费      600 non-null object\n",
      "影响购物因素    600 non-null object\n",
      "消费看法      600 non-null object\n",
      "增加消费一     600 non-null object\n",
      "增加消费二     600 non-null object\n",
      "增加消费三     600 non-null object\n",
      "合理月消费     600 non-null int64\n",
      "消费观点      600 non-null object\n",
      "购物方式      600 non-null object\n",
      "计划消费      600 non-null object\n",
      "dtypes: int64(2), object(14)\n",
      "memory usage: 75.1+ KB\n"
     ]
    }
   ],
   "source": [
    "data.select_dtypes()"
   ]
  },
  {
   "cell_type": "code",
   "execution_count": null,
   "metadata": {},
   "outputs": [],
   "source": [
    "a=data['年级'].value_counts()\n",
    "a=pd.DataFrame({'占比':a})\n",
    "a"
   ]
  },
  {
   "cell_type": "code",
   "execution_count": 60,
   "metadata": {},
   "outputs": [
    {
     "data": {
      "image/png": "[encoded data removed]",
      "text/plain": [
       "<Figure size 1152x576 with 1 Axes>"
      ]
     },
     "metadata": {},
     "output_type": "display_data"
    }
   ],
   "source": [
    "labels=['大四','大三','大二','大一']\n",
    "plt.figure(figsize=(16, 8))\n",
    "#设置子图的基本元素\n",
    "plt.axes(aspect='equal')\n",
    "plt.pie(data['年级'].value_counts(),labels=labels,autopct='%.1f%%',pctdistance=0.6,labeldistance=1.1)\n",
    "plt.title('年级分布')#设置图体，plt.title\n",
    "plt.legend()\n",
    "plt.show()\n",
    "#ax2 = fig.add_subplot(1,2,2)  #通过fig添加子图，参数：行数，列数，第几个。"
   ]
  },
  {
   "cell_type": "code",
   "execution_count": 61,
   "metadata": {},
   "outputs": [
    {
     "data": {
      "image/png": "[encoded data removed]",
      "text/plain": [
       "<Figure size 432x288 with 1 Axes>"
      ]
     },
     "metadata": {
      "needs_background": "light"
     },
     "output_type": "display_data"
    }
   ],
   "source": [
    "\n",
    "bar_width=0.5\n",
    "plt.bar(data['生活区域'].value_counts().index, data['生活区域'].value_counts(), width=bar_width,alpha=0.4, color='b')            #参数：左偏移、高度、柱宽、透明度、颜色、图例\n",
    "plt.title('地域分布')#设置图体，plt.title\n",
    "plt.show()\n",
    "#ax2 = fig.add_subplot(1,2,2)  #通过fig添加子图，参数：行数，列数，第几个。"
   ]
  },
  {
   "cell_type": "code",
   "execution_count": 37,
   "metadata": {},
   "outputs": [
    {
     "data": {
      "text/plain": [
       "(600, 16)"
      ]
     },
     "execution_count": 37,
     "metadata": {},
     "output_type": "execute_result"
    }
   ],
   "source": [
    "new_data=data\n",
    "new_data.shape"
   ]
  },
  {
   "cell_type": "code",
   "execution_count": 53,
   "metadata": {},
   "outputs": [
    {
     "data": {
      "text/plain": [
       "生活区域  消费来源\n",
       "农村    父母      264\n",
       "      打工       71\n",
       "      奖学金      34\n",
       "      其他        8\n",
       "城镇    父母      152\n",
       "      打工       44\n",
       "      奖学金      20\n",
       "      其他        7\n",
       "Name: 消费来源, dtype: int64"
      ]
     },
     "execution_count": 53,
     "metadata": {},
     "output_type": "execute_result"
    }
   ],
   "source": [
    "new_data.groupby('生活区域')['消费来源'].value_counts()"
   ]
  },
  {
   "cell_type": "code",
   "execution_count": 54,
   "metadata": {},
   "outputs": [
    {
     "data": {
      "text/plain": [
       "生活区域  购物方式     \n",
       "农村    部分网上，部分线下    251\n",
       "      全网购           98\n",
       "      全线下购买         28\n",
       "城镇    部分网上，部分线下    143\n",
       "      全网购           55\n",
       "      全线下购买         25\n",
       "Name: 购物方式, dtype: int64"
      ]
     },
     "execution_count": 54,
     "metadata": {},
     "output_type": "execute_result"
    }
   ],
   "source": [
    "new_data.groupby('生活区域')['购物方式'].value_counts()"
   ]
  },
  {
   "cell_type": "code",
   "execution_count": 62,
   "metadata": {},
   "outputs": [
    {
     "data": {
      "text/html": [
       "<div>\n",
       "<style scoped>\n",
       "    .dataframe tbody tr th:only-of-type {\n",
       "        vertical-align: middle;\n",
       "    }\n",
       "\n",
       "    .dataframe tbody tr th {\n",
       "        vertical-align: top;\n",
       "    }\n",
       "\n",
       "    .dataframe thead th {\n",
       "        text-align: right;\n",
       "    }\n",
       "</style>\n",
       "<table border=\"1\" class=\"dataframe\">\n",
       "  <thead>\n",
       "    <tr style=\"text-align: right;\">\n",
       "      <th></th>\n",
       "      <th>占比</th>\n",
       "    </tr>\n",
       "  </thead>\n",
       "  <tbody>\n",
       "    <tr>\n",
       "      <th>农村</th>\n",
       "      <td>0.628333</td>\n",
       "    </tr>\n",
       "    <tr>\n",
       "      <th>城镇</th>\n",
       "      <td>0.371667</td>\n",
       "    </tr>\n",
       "  </tbody>\n",
       "</table>\n",
       "</div>"
      ],
      "text/plain": [
       "          占比\n",
       "农村  0.628333\n",
       "城镇  0.371667"
      ]
     },
     "execution_count": 62,
     "metadata": {},
     "output_type": "execute_result"
    }
   ],
   "source": [
    "a=data['生活区域'].value_counts(normalize=True)\n",
    "a=pd.DataFrame({'占比':a})\n",
    "a"
   ]
  },
  {
   "cell_type": "code",
   "execution_count": 63,
   "metadata": {},
   "outputs": [],
   "source": [
    "a=data.groupby(['年级','生活区域'])['月消费'].agg('mean').sort_values(ascending=False)"
   ]
  },
  {
   "cell_type": "code",
   "execution_count": 64,
   "metadata": {},
   "outputs": [
    {
     "data": {
      "text/html": [
       "<div>\n",
       "<style scoped>\n",
       "    .dataframe tbody tr th:only-of-type {\n",
       "        vertical-align: middle;\n",
       "    }\n",
       "\n",
       "    .dataframe tbody tr th {\n",
       "        vertical-align: top;\n",
       "    }\n",
       "\n",
       "    .dataframe thead th {\n",
       "        text-align: right;\n",
       "    }\n",
       "</style>\n",
       "<table border=\"1\" class=\"dataframe\">\n",
       "  <thead>\n",
       "    <tr style=\"text-align: right;\">\n",
       "      <th></th>\n",
       "      <th></th>\n",
       "      <th>占比</th>\n",
       "    </tr>\n",
       "    <tr>\n",
       "      <th>年级</th>\n",
       "      <th>生活区域</th>\n",
       "      <th></th>\n",
       "    </tr>\n",
       "  </thead>\n",
       "  <tbody>\n",
       "    <tr>\n",
       "      <th>大一</th>\n",
       "      <th>城镇</th>\n",
       "      <td>914.285714</td>\n",
       "    </tr>\n",
       "    <tr>\n",
       "      <th>大四</th>\n",
       "      <th>城镇</th>\n",
       "      <td>893.055556</td>\n",
       "    </tr>\n",
       "    <tr>\n",
       "      <th>大三</th>\n",
       "      <th>城镇</th>\n",
       "      <td>869.811321</td>\n",
       "    </tr>\n",
       "    <tr>\n",
       "      <th>大二</th>\n",
       "      <th>城镇</th>\n",
       "      <td>866.666667</td>\n",
       "    </tr>\n",
       "    <tr>\n",
       "      <th>大四</th>\n",
       "      <th>农村</th>\n",
       "      <td>805.303030</td>\n",
       "    </tr>\n",
       "    <tr>\n",
       "      <th>大三</th>\n",
       "      <th>农村</th>\n",
       "      <td>805.000000</td>\n",
       "    </tr>\n",
       "    <tr>\n",
       "      <th>大二</th>\n",
       "      <th>农村</th>\n",
       "      <td>792.500000</td>\n",
       "    </tr>\n",
       "    <tr>\n",
       "      <th>大一</th>\n",
       "      <th>农村</th>\n",
       "      <td>789.230769</td>\n",
       "    </tr>\n",
       "  </tbody>\n",
       "</table>\n",
       "</div>"
      ],
      "text/plain": [
       "                 占比\n",
       "年级 生活区域            \n",
       "大一 城镇    914.285714\n",
       "大四 城镇    893.055556\n",
       "大三 城镇    869.811321\n",
       "大二 城镇    866.666667\n",
       "大四 农村    805.303030\n",
       "大三 农村    805.000000\n",
       "大二 农村    792.500000\n",
       "大一 农村    789.230769"
      ]
     },
     "execution_count": 64,
     "metadata": {},
     "output_type": "execute_result"
    }
   ],
   "source": [
    "a=pd.DataFrame({'占比':a})\n",
    "a"
   ]
  },
  {
   "cell_type": "code",
   "execution_count": 65,
   "metadata": {},
   "outputs": [
    {
     "data": {
      "text/plain": [
       "<matplotlib.axes._subplots.AxesSubplot at 0x856ba20>"
      ]
     },
     "execution_count": 65,
     "metadata": {},
     "output_type": "execute_result"
    },
    {
     "data": {
      "image/png": "[encoded data removed]",
      "text/plain": [
       "<Figure size 720x432 with 1 Axes>"
      ]
     },
     "metadata": {
      "needs_background": "light"
     },
     "output_type": "display_data"
    }
   ],
   "source": [
    "data.groupby(['年级','生活区域'])['月消费'].mean().unstack().plot(kind='bar', figsize=(10, 6))"
   ]
  },
  {
   "cell_type": "code",
   "execution_count": 66,
   "metadata": {},
   "outputs": [
    {
     "data": {
      "text/plain": [
       "年级  生活区域  消费来源\n",
       "大一  农村    父母      50\n",
       "          打工      12\n",
       "          奖学金      3\n",
       "    城镇    父母      22\n",
       "          打工       9\n",
       "          其他       2\n",
       "          奖学金      2\n",
       "大三  农村    父母      66\n",
       "          打工      20\n",
       "          奖学金     12\n",
       "          其他       2\n",
       "    城镇    父母      38\n",
       "          打工      12\n",
       "          奖学金      3\n",
       "大二  农村    父母      59\n",
       "          打工      15\n",
       "          奖学金      5\n",
       "          其他       1\n",
       "    城镇    父母      40\n",
       "          打工      14\n",
       "          奖学金      7\n",
       "          其他       2\n",
       "大四  农村    父母      89\n",
       "          打工      24\n",
       "          奖学金     14\n",
       "          其他       5\n",
       "    城镇    父母      52\n",
       "          打工       9\n",
       "          奖学金      8\n",
       "          其他       3\n",
       "Name: 消费来源, dtype: int64"
      ]
     },
     "execution_count": 66,
     "metadata": {},
     "output_type": "execute_result"
    }
   ],
   "source": [
    "data.groupby(['年级','生活区域'])['消费来源'].value_counts()"
   ]
  },
  {
   "cell_type": "code",
   "execution_count": 27,
   "metadata": {},
   "outputs": [
    {
     "data": {
      "text/plain": [
       "<matplotlib.axes._subplots.AxesSubplot at 0x54076a0>"
      ]
     },
     "execution_count": 27,
     "metadata": {},
     "output_type": "execute_result"
    },
    {
     "data": {
      "image/png": "[encoded data removed]",
      "text/plain": [
       "<Figure size 720x432 with 1 Axes>"
      ]
     },
     "metadata": {
      "needs_background": "light"
     },
     "output_type": "display_data"
    }
   ],
   "source": [
    "data.groupby(['年级','生活区域'])['消费来源'].value_counts(normalize=True).unstack().plot(kind='bar', figsize=(10, 6))"
   ]
  },
  {
   "cell_type": "code",
   "execution_count": 67,
   "metadata": {},
   "outputs": [],
   "source": [
    "a=data.groupby('生活区域')['消费来源'].value_counts(normalize=True)"
   ]
  },
  {
   "cell_type": "code",
   "execution_count": 68,
   "metadata": {},
   "outputs": [
    {
     "data": {
      "text/html": [
       "<div>\n",
       "<style scoped>\n",
       "    .dataframe tbody tr th:only-of-type {\n",
       "        vertical-align: middle;\n",
       "    }\n",
       "\n",
       "    .dataframe tbody tr th {\n",
       "        vertical-align: top;\n",
       "    }\n",
       "\n",
       "    .dataframe thead th {\n",
       "        text-align: right;\n",
       "    }\n",
       "</style>\n",
       "<table border=\"1\" class=\"dataframe\">\n",
       "  <thead>\n",
       "    <tr style=\"text-align: right;\">\n",
       "      <th></th>\n",
       "      <th></th>\n",
       "      <th>占比</th>\n",
       "    </tr>\n",
       "    <tr>\n",
       "      <th>生活区域</th>\n",
       "      <th>消费来源</th>\n",
       "      <th></th>\n",
       "    </tr>\n",
       "  </thead>\n",
       "  <tbody>\n",
       "    <tr>\n",
       "      <th rowspan=\"4\" valign=\"top\">农村</th>\n",
       "      <th>父母</th>\n",
       "      <td>0.700265</td>\n",
       "    </tr>\n",
       "    <tr>\n",
       "      <th>打工</th>\n",
       "      <td>0.188329</td>\n",
       "    </tr>\n",
       "    <tr>\n",
       "      <th>奖学金</th>\n",
       "      <td>0.090186</td>\n",
       "    </tr>\n",
       "    <tr>\n",
       "      <th>其他</th>\n",
       "      <td>0.021220</td>\n",
       "    </tr>\n",
       "    <tr>\n",
       "      <th rowspan=\"4\" valign=\"top\">城镇</th>\n",
       "      <th>父母</th>\n",
       "      <td>0.681614</td>\n",
       "    </tr>\n",
       "    <tr>\n",
       "      <th>打工</th>\n",
       "      <td>0.197309</td>\n",
       "    </tr>\n",
       "    <tr>\n",
       "      <th>奖学金</th>\n",
       "      <td>0.089686</td>\n",
       "    </tr>\n",
       "    <tr>\n",
       "      <th>其他</th>\n",
       "      <td>0.031390</td>\n",
       "    </tr>\n",
       "  </tbody>\n",
       "</table>\n",
       "</div>"
      ],
      "text/plain": [
       "                 占比\n",
       "生活区域 消费来源          \n",
       "农村   父母    0.700265\n",
       "     打工    0.188329\n",
       "     奖学金   0.090186\n",
       "     其他    0.021220\n",
       "城镇   父母    0.681614\n",
       "     打工    0.197309\n",
       "     奖学金   0.089686\n",
       "     其他    0.031390"
      ]
     },
     "execution_count": 68,
     "metadata": {},
     "output_type": "execute_result"
    }
   ],
   "source": [
    "a=pd.DataFrame({'占比':a})\n",
    "a"
   ]
  },
  {
   "cell_type": "code",
   "execution_count": null,
   "metadata": {},
   "outputs": [],
   "source": []
  },
  {
   "cell_type": "code",
   "execution_count": 26,
   "metadata": {},
   "outputs": [],
   "source": [
    "import seaborn as sns\n",
    "import matplotlib.pyplot as plt"
   ]
  },
  {
   "cell_type": "code",
   "execution_count": 41,
   "metadata": {},
   "outputs": [],
   "source": [
    "import matplotlib as mpl\n",
    "# 排除警告信息\n",
    "import warnings\n",
    "# matplotlib画图常见参数设置\n",
    "mpl.rcParams[\"font.family\"] = \"SimHei\" \n",
    "# 设置字体\n",
    "mpl.rcParams[\"axes.unicode_minus\"]=False \n",
    "# 用来正常显示负号\n",
    "plt.rcParams['font.sans-serif']=['SimHei'] \n",
    "# 用来正常显示中文标签# 嵌入式显示图形\n",
    "%matplotlib inline\n",
    "warnings.filterwarnings(\"ignore\")"
   ]
  },
  {
   "cell_type": "code",
   "execution_count": 45,
   "metadata": {},
   "outputs": [],
   "source": [
    "class Mycount(object):\n",
    "    \n",
    "    def oname(self,df):\n",
    "        self.onames=df.select_dtypes(include=['O']).columns.tolist()\n",
    "        self.onum=len(self.onames)\n",
    "        return self.onames\n",
    "    \n",
    "    def nname(self,df):\n",
    "        self.nnames=df.select_dtypes(include=['number']).columns.tolist()\n",
    "        self.nnum=len(self.nnames)\n",
    "        return self.nnames\n",
    "    \n",
    "    def odescribe(self,df):\n",
    "        lis=self.ob_name(df)\n",
    "        dic={}\n",
    "        for i in lis:\n",
    "            lis_ma=df[i].value_counts().idxmax()\n",
    "            rate_ma=df[i].value_counts(normalize=True).max()\n",
    "            lis_mi=df[i].value_counts().idxmin()\n",
    "            rate_mi=df[i].value_counts(normalize=True).min()\n",
    "            dic[i]=[lis_ma,rate_ma,lis_mi,rate_mi]\n",
    "        return dic\n",
    "    \n",
    "    def plt_cov(self,df):\n",
    "        plt_name=self.nname\n",
    "        plt.figure(figsize=(10,10))\n",
    "        plt.title('MY COV',y=1.0,size=16)\n",
    "        sns.heatmap(df[plt_name].cov(),square=True,linewidths=0.1,linecolor='white',annot=True)\n",
    "        plt.show()\n",
    "        \n",
    "    def plt_corr(self,df):\n",
    "        plt_name=self.nname\n",
    "        plt.figure(figsize=(10,10))\n",
    "        plt.title('MY CORR',y=1.0,size=16)\n",
    "        sns.heatmap(df[plt_name].corr(),square=True,linewidths=0.1,linecolor='white',annot=True)\n",
    "        plt.show()    "
   ]
  },
  {
   "cell_type": "code",
   "execution_count": 22,
   "metadata": {},
   "outputs": [
    {
     "name": "stdout",
     "output_type": "stream",
     "text": [
      "{'年级': ['大四', 0.34, '大一', 0.16666666666666666], '生活区域': ['农村', 0.6283333333333333, '城镇', 0.37166666666666665], '消费来源': ['父母', 0.6933333333333334, '其他', 0.025], '消费用途': ['服装方面', 0.29833333333333334, '其他', 0.11666666666666667], '零食花费': ['80—100元', 0.31833333333333336, '120元以上', 0.06166666666666667], '娱乐消费': ['100-150元', 0.445, '200元以上', 0.043333333333333335], '影响购物因素': ['外表美观', 0.42833333333333334, '其他', 0.03], '消费看法': ['消费偏高', 0.49333333333333335, '比较节俭', 0.0016666666666666668], '增加消费一': ['日用品', 0.15833333333333333, '服装', 0.12], '增加消费二': ['零食', 0.15833333333333333, '其他', 0.13], '增加消费三': ['学习费用', 0.15666666666666668, '零食', 0.13166666666666665], '消费观点': ['兼顾实惠和商标', 0.49333333333333335, '看心情', 0.0016666666666666668], '购物方式': ['部分网上，部分线下', 0.6566666666666666, '全线下购买', 0.08833333333333333], '计划消费': ['没有计划', 0.46, '有计划', 0.14833333333333334]}\n"
     ]
    },
    {
     "data": {
      "text/plain": [
       "{'年级': ['大四', 0.34, '大一', 0.16666666666666666],\n",
       " '生活区域': ['农村', 0.6283333333333333, '城镇', 0.37166666666666665],\n",
       " '消费来源': ['父母', 0.6933333333333334, '其他', 0.025],\n",
       " '消费用途': ['服装方面', 0.29833333333333334, '其他', 0.11666666666666667],\n",
       " '零食花费': ['80—100元', 0.31833333333333336, '120元以上', 0.06166666666666667],\n",
       " '娱乐消费': ['100-150元', 0.445, '200元以上', 0.043333333333333335],\n",
       " '影响购物因素': ['外表美观', 0.42833333333333334, '其他', 0.03],\n",
       " '消费看法': ['消费偏高', 0.49333333333333335, '比较节俭', 0.0016666666666666668],\n",
       " '增加消费一': ['日用品', 0.15833333333333333, '服装', 0.12],\n",
       " '增加消费二': ['零食', 0.15833333333333333, '其他', 0.13],\n",
       " '增加消费三': ['学习费用', 0.15666666666666668, '零食', 0.13166666666666665],\n",
       " '消费观点': ['兼顾实惠和商标', 0.49333333333333335, '看心情', 0.0016666666666666668],\n",
       " '购物方式': ['部分网上，部分线下', 0.6566666666666666, '全线下购买', 0.08833333333333333],\n",
       " '计划消费': ['没有计划', 0.46, '有计划', 0.14833333333333334]}"
      ]
     },
     "execution_count": 22,
     "metadata": {},
     "output_type": "execute_result"
    }
   ],
   "source": [
    "data_ob.maxmin(data)"
   ]
  },
  {
   "cell_type": "code",
   "execution_count": 70,
   "metadata": {},
   "outputs": [
    {
     "name": "stdout",
     "output_type": "stream",
     "text": [
      "{'年级': ['大四', 0.34, '大一', 0.16666666666666666], '生活区域': ['农村', 0.6283333333333333, '城镇', 0.37166666666666665], '月消费': [800, 0.42333333333333334, 500, 0.0016666666666666668], '消费来源': ['父母', 0.6933333333333334, '其他', 0.025], '消费用途': ['服装方面', 0.29833333333333334, '其他', 0.11666666666666667], '零食花费': ['50—80元', 0.31833333333333336, '120元以上', 0.06166666666666667], '娱乐消费': ['100-150元', 0.445, '200元以上', 0.043333333333333335], '影响购物因素': ['外表美观', 0.42833333333333334, '其他', 0.03], '消费看法': ['消费偏高', 0.49333333333333335, '比较节俭', 0.0016666666666666668], '增加消费一': ['日用品', 0.15833333333333333, '服装', 0.12], '增加消费二': ['零食', 0.15833333333333333, '其他', 0.13], '增加消费三': ['学习费用', 0.15666666666666668, '零食', 0.13166666666666665], '合理月消费': [800, 0.31, 600, 0.008333333333333333], '消费观点': ['兼顾实惠和商标', 0.49333333333333335, '看心情', 0.0016666666666666668], '购物方式': ['部分网上，部分线下', 0.6566666666666666, '全线下购买', 0.08833333333333333], '计划消费': ['没有计划', 0.46, '有计划', 0.14833333333333334]}\n"
     ]
    }
   ],
   "source": [
    "re=get_m(data)"
   ]
  },
  {
   "cell_type": "code",
   "execution_count": 71,
   "metadata": {},
   "outputs": [
    {
     "data": {
      "text/plain": [
       "<matplotlib.axes._subplots.AxesSubplot at 0x88bb710>"
      ]
     },
     "execution_count": 71,
     "metadata": {},
     "output_type": "execute_result"
    },
    {
     "data": {
      "image/png": "[encoded data removed]",
      "text/plain": [
       "<Figure size 720x432 with 1 Axes>"
      ]
     },
     "metadata": {
      "needs_background": "light"
     },
     "output_type": "display_data"
    }
   ],
   "source": [
    "data.groupby('生活区域')['消费来源'].value_counts(normalize=True).unstack().plot(kind='bar', figsize=(10, 6))"
   ]
  },
  {
   "cell_type": "code",
   "execution_count": 72,
   "metadata": {},
   "outputs": [
    {
     "data": {
      "text/plain": [
       "生活区域  消费来源\n",
       "农村    父母      0.700265\n",
       "      打工      0.188329\n",
       "      奖学金     0.090186\n",
       "      其他      0.021220\n",
       "城镇    父母      0.681614\n",
       "      打工      0.197309\n",
       "      奖学金     0.089686\n",
       "      其他      0.031390\n",
       "Name: 消费来源, dtype: float64"
      ]
     },
     "execution_count": 72,
     "metadata": {},
     "output_type": "execute_result"
    }
   ],
   "source": [
    "data.groupby('生活区域')['消费来源'].value_counts(normalize=True)"
   ]
  },
  {
   "cell_type": "code",
   "execution_count": 73,
   "metadata": {},
   "outputs": [
    {
     "data": {
      "image/png": "[encoded data removed]",
      "text/plain": [
       "<Figure size 720x432 with 1 Axes>"
      ]
     },
     "metadata": {
      "needs_background": "light"
     },
     "output_type": "display_data"
    },
    {
     "data": {
      "image/png": "[encoded data removed]",
      "text/plain": [
       "<Figure size 720x432 with 1 Axes>"
      ]
     },
     "metadata": {
      "needs_background": "light"
     },
     "output_type": "display_data"
    },
    {
     "data": {
      "image/png": "[encoded data removed]",
      "text/plain": [
       "<Figure size 720x432 with 1 Axes>"
      ]
     },
     "metadata": {
      "needs_background": "light"
     },
     "output_type": "display_data"
    },
    {
     "data": {
      "image/png": "[encoded data removed]",
      "text/plain": [
       "<Figure size 720x432 with 1 Axes>"
      ]
     },
     "metadata": {
      "needs_background": "light"
     },
     "output_type": "display_data"
    },
    {
     "data": {
      "image/png": "[encoded data removed]",
      "text/plain": [
       "<Figure size 720x432 with 1 Axes>"
      ]
     },
     "metadata": {
      "needs_background": "light"
     },
     "output_type": "display_data"
    },
    {
     "data": {
      "image/png": "[encoded data removed]",
      "text/plain": [
       "<Figure size 720x432 with 1 Axes>"
      ]
     },
     "metadata": {
      "needs_background": "light"
     },
     "output_type": "display_data"
    },
    {
     "data": {
      "image/png": "[encoded data removed]",
      "text/plain": [
       "<Figure size 720x432 with 1 Axes>"
      ]
     },
     "metadata": {
      "needs_background": "light"
     },
     "output_type": "display_data"
    },
    {
     "data": {
      "image/png": "[encoded data removed]",
      "text/plain": [
       "<Figure size 720x432 with 1 Axes>"
      ]
     },
     "metadata": {
      "needs_background": "light"
     },
     "output_type": "display_data"
    },
    {
     "data": {
      "image/png": "[encoded data removed]",
      "text/plain": [
       "<Figure size 720x432 with 1 Axes>"
      ]
     },
     "metadata": {
      "needs_background": "light"
     },
     "output_type": "display_data"
    },
    {
     "data": {
      "image/png": "[encoded data removed]",
      "text/plain": [
       "<Figure size 720x432 with 1 Axes>"
      ]
     },
     "metadata": {
      "needs_background": "light"
     },
     "output_type": "display_data"
    },
    {
     "data": {
      "image/png": "[encoded data removed]",
      "text/plain": [
       "<Figure size 720x432 with 1 Axes>"
      ]
     },
     "metadata": {
      "needs_background": "light"
     },
     "output_type": "display_data"
    },
    {
     "data": {
      "image/png": "[encoded data removed]",
      "text/plain": [
       "<Figure size 720x432 with 1 Axes>"
      ]
     },
     "metadata": {
      "needs_background": "light"
     },
     "output_type": "display_data"
    },
    {
     "data": {
      "image/png": "[encoded data removed]",
      "text/plain": [
       "<Figure size 720x432 with 1 Axes>"
      ]
     },
     "metadata": {
      "needs_background": "light"
     },
     "output_type": "display_data"
    },
    {
     "data": {
      "image/png": "[encoded data removed]",
      "text/plain": [
       "<Figure size 720x432 with 1 Axes>"
      ]
     },
     "metadata": {
      "needs_background": "light"
     },
     "output_type": "display_data"
    }
   ],
   "source": [
    "o_lis=data.select_dtypes(include=['O']).columns.tolist()\n",
    "for i in o_lis:\n",
    "    data.groupby('生活区域')[i].value_counts(normalize=True).unstack().plot(kind='bar', figsize=(10, 6))"
   ]
  },
  {
   "cell_type": "code",
   "execution_count": 75,
   "metadata": {},
   "outputs": [
    {
     "data": {
      "text/plain": [
       "生活区域  消费用途\n",
       "农村    服装方面    115\n",
       "      日化用品     77\n",
       "      饮食方面     77\n",
       "      学习方面     60\n",
       "      其他       48\n",
       "城镇    日化用品     73\n",
       "      服装方面     64\n",
       "      饮食方面     38\n",
       "      学习方面     26\n",
       "      其他       22\n",
       "Name: 消费用途, dtype: int64"
      ]
     },
     "execution_count": 75,
     "metadata": {},
     "output_type": "execute_result"
    }
   ],
   "source": [
    "data.groupby('生活区域')['消费用途'].value_counts()"
   ]
  },
  {
   "cell_type": "code",
   "execution_count": 76,
   "metadata": {},
   "outputs": [
    {
     "data": {
      "text/plain": [
       "生活区域  影响购物因素\n",
       "农村    外表美观      160\n",
       "      价格        106\n",
       "      质量         57\n",
       "      品牌         41\n",
       "      其他         13\n",
       "城镇    外表美观       97\n",
       "      价格         72\n",
       "      品牌         25\n",
       "      质量         24\n",
       "      其他          5\n",
       "Name: 影响购物因素, dtype: int64"
      ]
     },
     "execution_count": 76,
     "metadata": {},
     "output_type": "execute_result"
    }
   ],
   "source": [
    "data.groupby('生活区域')['影响购物因素'].value_counts()"
   ]
  },
  {
   "cell_type": "code",
   "execution_count": 77,
   "metadata": {},
   "outputs": [
    {
     "data": {
      "text/plain": [
       "生活区域  消费观点   \n",
       "农村    兼顾实惠和商标    178\n",
       "      尽量追求高标准    144\n",
       "      以经济实惠为主     54\n",
       "      看心情          1\n",
       "城镇    兼顾实惠和商标    118\n",
       "      尽量追求高标准     65\n",
       "      以经济实惠为主     40\n",
       "Name: 消费观点, dtype: int64"
      ]
     },
     "execution_count": 77,
     "metadata": {},
     "output_type": "execute_result"
    }
   ],
   "source": [
    "data.groupby('生活区域')['消费观点'].value_counts()"
   ]
  },
  {
   "cell_type": "code",
   "execution_count": null,
   "metadata": {},
   "outputs": [],
   "source": [
    "dic={}\n",
    "df=data\n",
    "for i in df.columns.tolist():\n",
    "    lis_ma=df[i].value_counts().idxmax()\n",
    "    rate_ma=df[i].value_counts(normalize=True).max()\n",
    "    lis_mi=df[i].value_counts().idxmin()\n",
    "    rate_mi=df[i].value_counts(normalize=True).min()\n",
    "    dic[i]=[lis_ma,rate_ma,lis_mi,rate_mi]\n",
    "print(dic)"
   ]
  }
 ],
 "metadata": {
  "kernelspec": {
   "display_name": "Python 3",
   "language": "python",
   "name": "python3"
  },
  "language_info": {
   "codemirror_mode": {
    "name": "ipython",
    "version": 3
   },
   "file_extension": ".py",
   "mimetype": "text/x-python",
   "name": "python",
   "nbconvert_exporter": "python",
   "pygments_lexer": "ipython3",
   "version": "3.7.0"
  }
 },
 "nbformat": 4,
 "nbformat_minor": 2
}
